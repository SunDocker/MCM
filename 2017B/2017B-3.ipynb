{
 "cells": [
  {
   "cell_type": "markdown",
   "source": [
    "# 公共数据"
   ],
   "metadata": {
    "collapsed": false
   }
  },
  {
   "cell_type": "code",
   "execution_count": 1,
   "outputs": [],
   "source": [
    "import pandas as pd"
   ],
   "metadata": {
    "collapsed": false,
    "pycharm": {
     "name": "#%%\n"
    }
   }
  },
  {
   "cell_type": "code",
   "execution_count": 2,
   "outputs": [],
   "source": [
    "df1 = pd.read_excel('dataset/附件一：已结束项目任务数据.xls')\n",
    "task_location_values = df1[['任务gps经度','任务gps 纬度']].values\n",
    "task_price_values = df1['任务标价'].values"
   ],
   "metadata": {
    "collapsed": false,
    "pycharm": {
     "name": "#%%\n"
    }
   }
  },
  {
   "cell_type": "code",
   "execution_count": 3,
   "outputs": [],
   "source": [
    "df2 = pd.read_excel('dataset/附件二：会员信息数据-分列.xlsx')\n",
    "vip_location_values = df2[['会员位置经度','会员位置纬度']].values\n",
    "vip_lim_values = df2['预订任务限额'].values\n",
    "vip_credit_values = df2['信誉值'].values"
   ],
   "metadata": {
    "collapsed": false,
    "pycharm": {
     "name": "#%%\n"
    }
   }
  },
  {
   "cell_type": "code",
   "execution_count": 4,
   "outputs": [],
   "source": [
    "import matplotlib.pyplot as plt\n",
    "plt.rcParams['font.sans-serif'] = ['SimHei']   #解决中文显示问题\n",
    "plt.rcParams['axes.unicode_minus'] = False    # 解决中文显示问题"
   ],
   "metadata": {
    "collapsed": false,
    "pycharm": {
     "name": "#%%\n"
    }
   }
  },
  {
   "cell_type": "code",
   "execution_count": 5,
   "outputs": [],
   "source": [
    "import numpy as np\n",
    "def get_euclidean_dis(x1, y1, x2, y2):\n",
    "    x_squ = (x1 - x2)**2\n",
    "    y_squ = (y1 - y2)**2\n",
    "    dis = np.sqrt(x_squ + y_squ) * 111 * 1000\n",
    "    return dis"
   ],
   "metadata": {
    "collapsed": false,
    "pycharm": {
     "name": "#%%\n"
    }
   }
  },
  {
   "cell_type": "markdown",
   "source": [
    "## 计算得到的数据"
   ],
   "metadata": {
    "collapsed": false
   }
  },
  {
   "cell_type": "markdown",
   "source": [
    "### 与城市中心的距离"
   ],
   "metadata": {
    "collapsed": false
   }
  },
  {
   "cell_type": "code",
   "execution_count": 6,
   "outputs": [
    {
     "name": "stderr",
     "output_type": "stream",
     "text": [
      "D:\\ProgramData\\Anaconda3\\Lib\\site-packages\\sklearn\\cluster\\_kmeans.py:1334: UserWarning: KMeans is known to have a memory leak on Windows with MKL, when there are less chunks than available threads. You can avoid it by setting the environment variable OMP_NUM_THREADS=4.\n",
      "  warnings.warn(\n"
     ]
    },
    {
     "data": {
      "text/plain": "                  0\ncount    835.000000\nmean   17783.392481\nstd     9654.577805\nmin      396.992079\n25%    11623.089207\n50%    16396.632905\n75%    22787.597732\nmax    94366.816502",
      "text/html": "<div>\n<style scoped>\n    .dataframe tbody tr th:only-of-type {\n        vertical-align: middle;\n    }\n\n    .dataframe tbody tr th {\n        vertical-align: top;\n    }\n\n    .dataframe thead th {\n        text-align: right;\n    }\n</style>\n<table border=\"1\" class=\"dataframe\">\n  <thead>\n    <tr style=\"text-align: right;\">\n      <th></th>\n      <th>0</th>\n    </tr>\n  </thead>\n  <tbody>\n    <tr>\n      <th>count</th>\n      <td>835.000000</td>\n    </tr>\n    <tr>\n      <th>mean</th>\n      <td>17783.392481</td>\n    </tr>\n    <tr>\n      <th>std</th>\n      <td>9654.577805</td>\n    </tr>\n    <tr>\n      <th>min</th>\n      <td>396.992079</td>\n    </tr>\n    <tr>\n      <th>25%</th>\n      <td>11623.089207</td>\n    </tr>\n    <tr>\n      <th>50%</th>\n      <td>16396.632905</td>\n    </tr>\n    <tr>\n      <th>75%</th>\n      <td>22787.597732</td>\n    </tr>\n    <tr>\n      <th>max</th>\n      <td>94366.816502</td>\n    </tr>\n  </tbody>\n</table>\n</div>"
     },
     "execution_count": 6,
     "metadata": {},
     "output_type": "execute_result"
    }
   ],
   "source": [
    "from sklearn.cluster import KMeans\n",
    "import numpy as np\n",
    "cluster = KMeans(n_clusters=4,random_state=0).fit(task_location_values)\n",
    "y_pred = cluster.labels_\n",
    "centroid = cluster.cluster_centers_\n",
    "task_dis_to_city_center = np.zeros(len(df1))\n",
    "for i in range(len(task_location_values)):\n",
    "    center_loc = centroid[y_pred[i]]\n",
    "    task_dis_to_city_center[i] = get_euclidean_dis(task_location_values[i,0],\n",
    "                                                   task_location_values[i,1],\n",
    "                                                   center_loc[0],\n",
    "                                                   center_loc[1])\n",
    "pd.DataFrame(task_dis_to_city_center).describe()"
   ],
   "metadata": {
    "collapsed": false,
    "pycharm": {
     "name": "#%%\n"
    }
   }
  },
  {
   "cell_type": "markdown",
   "source": [
    "### 附近任务数"
   ],
   "metadata": {
    "collapsed": false
   }
  },
  {
   "cell_type": "code",
   "execution_count": 7,
   "outputs": [],
   "source": [
    "import numpy as np\n",
    "task_num = len(df1)\n",
    "task_around_task_count = np.zeros(task_num)\n",
    "for i in range(task_num):\n",
    "    for j in range(task_num):\n",
    "        if i == j:\n",
    "            continue\n",
    "        if get_euclidean_dis(task_location_values[i,0],task_location_values[i,1],\n",
    "                             task_location_values[j,0],task_location_values[j,1],)<=2000:\n",
    "            task_around_task_count[i] += 1"
   ],
   "metadata": {
    "collapsed": false,
    "pycharm": {
     "name": "#%%\n"
    }
   }
  },
  {
   "cell_type": "markdown",
   "source": [
    "### 附近会员数及平均完成能力"
   ],
   "metadata": {
    "collapsed": false
   }
  },
  {
   "cell_type": "code",
   "execution_count": 8,
   "outputs": [],
   "source": [
    "def entropy_weight(data):\n",
    "    # 假设data已经正向化过了\n",
    "    data = np.array(data)\n",
    "    # 归一化（可能已经归约过了）\n",
    "    data = (data - data.min(axis=0)) / (data.max(axis=0) - data.min(axis=0))\n",
    "    # 概率矩阵\n",
    "    p = data / data.sum(axis=0)\n",
    "    # 信息熵\n",
    "    E = - np.nansum(p * np.log(np.where(p==0,1,p)), axis=0) / np.log(len(data[0]))\n",
    "    # 熵权\n",
    "    return (1 - E) / (1 - E).sum()"
   ],
   "metadata": {
    "collapsed": false,
    "pycharm": {
     "name": "#%%\n"
    }
   }
  },
  {
   "cell_type": "code",
   "execution_count": 9,
   "outputs": [
    {
     "name": "stdout",
     "output_type": "stream",
     "text": [
      "[0.61346148 0.38653852]\n",
      "[[4.89177489e-01 1.00000000e+00]\n",
      " [7.01298701e-01 5.57764693e-01]\n",
      " [5.97402597e-01 4.11089860e-01]\n",
      " ...\n",
      " [0.00000000e+00 8.97093300e-08]\n",
      " [0.00000000e+00 5.14725664e-08]\n",
      " [0.00000000e+00 0.00000000e+00]]\n",
      "[6.86630069e-01 6.45817277e-01 5.25385547e-01 ... 3.46761120e-08\n",
      " 1.98961298e-08 0.00000000e+00]\n"
     ]
    }
   ],
   "source": [
    "vip_lim_credit = np.hstack((vip_lim_values.reshape(-1,1),vip_credit_values.reshape(-1,1)))\n",
    "vip_cap_w = entropy_weight(vip_lim_credit)\n",
    "print(vip_cap_w)\n",
    "vip_lim_credit_con = (vip_lim_credit - vip_lim_credit.min(axis=0)) / (vip_lim_credit.max(axis=0) - vip_lim_credit.min(axis=0))\n",
    "vip_capbility = (vip_cap_w * vip_lim_credit_con).sum(axis=1)\n",
    "print(vip_lim_credit_con)\n",
    "print(vip_capbility)"
   ],
   "metadata": {
    "collapsed": false,
    "pycharm": {
     "name": "#%%\n"
    }
   }
  },
  {
   "cell_type": "code",
   "execution_count": 10,
   "outputs": [],
   "source": [
    "import numpy as np\n",
    "task_num = len(df1)\n",
    "vip_num = len(df2)\n",
    "task_around_vip_count = np.zeros(task_num)\n",
    "task_around_vip_capbility_sum = np.zeros(task_num)\n",
    "for i in range(task_num):\n",
    "    for j in range(vip_num):\n",
    "        if get_euclidean_dis(task_location_values[i,0],task_location_values[i,1],\n",
    "                             vip_location_values[j,0],vip_location_values[j,1]) <= 2000:\n",
    "            task_around_vip_count[i] += 1\n",
    "            task_around_vip_capbility_sum[i] += vip_capbility[i]\n",
    "task_around_vip_capbility_ave = task_around_vip_capbility_sum / np.where(task_around_vip_count==0,\n",
    "                                                              1,task_around_vip_count)"
   ],
   "metadata": {
    "collapsed": false,
    "pycharm": {
     "name": "#%%\n"
    }
   }
  },
  {
   "cell_type": "markdown",
   "id": "f8ad8a00",
   "metadata": {},
   "source": [
    "# 问题3"
   ]
  },
  {
   "cell_type": "markdown",
   "id": "d9851c6b",
   "metadata": {},
   "source": [
    "## 任务打包"
   ]
  },
  {
   "cell_type": "markdown",
   "id": "b532b374",
   "metadata": {},
   "source": [
    "### 层次聚类"
   ]
  },
  {
   "cell_type": "code",
   "execution_count": 11,
   "id": "3e12f7f3",
   "metadata": {},
   "outputs": [],
   "source": [
    "import numpy as np\n",
    "def compute_agg_dis(X):\n",
    "    X_num = X.shape[0]\n",
    "    dis_mat = np.zeros((X_num, X_num))\n",
    "    task_dis_to_city_center_median = np.median(task_dis_to_city_center)\n",
    "    task_around_vip_count_median = np.median(task_around_vip_count)\n",
    "    task_around_vip_capbility_ave_median = np.median(task_around_vip_capbility_ave)\n",
    "    for i in range(X_num):\n",
    "        for j in range(X_num):\n",
    "            if i == j:\n",
    "                continue\n",
    "            coef_i = 1\n",
    "            coef_j = 1\n",
    "            if task_dis_to_city_center[i]<task_dis_to_city_center_median:\n",
    "                coef_i *= 0.7\n",
    "            if task_around_vip_count[i]<task_around_vip_count_median:\n",
    "                coef_i *= 0.7\n",
    "            if task_around_vip_capbility_ave[i]<task_around_vip_capbility_ave_median:\n",
    "                coef_i *= 0.7\n",
    "            if task_dis_to_city_center[j]<task_dis_to_city_center_median:\n",
    "                coef_j *= 0.7\n",
    "            if task_around_vip_count[j]<task_around_vip_count_median:\n",
    "                coef_j *= 0.7\n",
    "            if task_around_vip_capbility_ave[j]<task_around_vip_capbility_ave_median:\n",
    "                coef_j *= 0.7\n",
    "            dis_mat[i,j] = get_euclidean_dis(X[i,0],X[i,1],X[j,0],X[j,1]) * coef_i * coef_j\n",
    "    return dis_mat"
   ]
  },
  {
   "cell_type": "code",
   "execution_count": 12,
   "id": "71f0a89a",
   "metadata": {},
   "outputs": [
    {
     "data": {
      "text/plain": "199"
     },
     "execution_count": 12,
     "metadata": {},
     "output_type": "execute_result"
    }
   ],
   "source": [
    "from sklearn.cluster import AgglomerativeClustering\n",
    "X = np.array((task_location_values[:,0],\n",
    "             task_location_values[:,1],\n",
    "             task_dis_to_city_center,\n",
    "             task_around_vip_count,\n",
    "             task_around_vip_capbility_ave)).T\n",
    "model = AgglomerativeClustering(distance_threshold=2000, \n",
    "                                affinity=compute_agg_dis,\n",
    "                                linkage=\"complete\", \n",
    "                                n_clusters=None,\n",
    "                               compute_full_tree=True)\n",
    "model.fit(X)\n",
    "n_clusters = len(pd.Series(model.labels_).unique())\n",
    "X = task_location_values\n",
    "len(pd.Series(model.labels_).unique())"
   ]
  },
  {
   "cell_type": "markdown",
   "id": "f6d02e16",
   "metadata": {},
   "source": [
    "### 调整聚类结果/二次聚类"
   ]
  },
  {
   "cell_type": "code",
   "execution_count": 14,
   "id": "9094a140",
   "metadata": {},
   "outputs": [
    {
     "data": {
      "text/plain": "232    7\n104    6\n0      6\n21     6\n283    6\n      ..\n151    1\n211    1\n150    1\n215    1\n360    1\nLength: 314, dtype: int64"
     },
     "execution_count": 13,
     "metadata": {},
     "output_type": "execute_result"
    },
    {
     "data": {
      "text/plain": "232    7\n104    6\n0      6\n21     6\n283    6\n      ..\n151    1\n211    1\n150    1\n215    1\n360    1\nLength: 314, dtype: int64"
     },
     "execution_count": 14,
     "metadata": {},
     "output_type": "execute_result"
    }
   ],
   "source": [
    "cluster_task_counts = pd.DataFrame(model.labels_).value_counts()\n",
    "cluster_task_to_divide_se = cluster_task_counts[cluster_task_counts > 6]\n",
    "new_label_number = len(pd.Series(model.labels_).unique())\n",
    "new_labels_ = np.array(model.labels_)\n",
    "for idx in cluster_task_to_divide_se.index:\n",
    "    X_cluster = X[model.labels_ == idx]\n",
    "    count_before = cluster_task_to_divide_se.loc[idx]\n",
    "    n_clusters = np.ceil(count_before / 3).astype('int')\n",
    "    new_model = AgglomerativeClustering(n_clusters=n_clusters,affinity=compute_agg_dis,linkage=\"complete\").fit(X_cluster)\n",
    "    new_labels_[model.labels_ == idx] = new_model.labels_ + new_label_number\n",
    "    new_label_number += new_model.labels_.max()+1\n",
    "pd.DataFrame(new_labels_).value_counts().sort_values(ascending=False)"
   ]
  },
  {
   "cell_type": "markdown",
   "id": "8ca691ab",
   "metadata": {},
   "source": [
    "### 可视化"
   ]
  },
  {
   "cell_type": "code",
   "execution_count": 15,
   "id": "d18fb5ed",
   "metadata": {},
   "outputs": [],
   "source": [
    "color = ['aliceblue',\n",
    "'antiquewhite',\n",
    "'aqua',\n",
    "'aquamarine',\n",
    "'azure',\n",
    "'beige',\n",
    "'bisque',\n",
    "'black',\n",
    "'blanchedalmond',\n",
    "'blue',\n",
    "'blueviolet',\n",
    "'brown',\n",
    "'burlywood',\n",
    "'cadetblue',\n",
    "'chartreuse',\n",
    "'chocolate',\n",
    "'coral',\n",
    "'cornflowerblue',\n",
    "'cornsilk',\n",
    "'crimson',\n",
    "'cyan',\n",
    "'darkblue',\n",
    "'darkcyan',\n",
    "'darkgoldenrod',\n",
    "'darkgray',\n",
    "'darkgreen',\n",
    "'darkgrey',\n",
    "'darkkhaki',\n",
    "'darkmagenta',\n",
    "'darkolivegreen',\n",
    "'darkorange',\n",
    "'darkorchid',\n",
    "'darkred',\n",
    "'darksalmon',\n",
    "'darkseagreen',\n",
    "'darkslateblue',\n",
    "'darkslategray',\n",
    "'darkslategrey',\n",
    "'darkturquoise',\n",
    "'darkviolet',\n",
    "'deeppink',\n",
    "'deepskyblue',\n",
    "'dimgray',\n",
    "'dimgrey',\n",
    "'dodgerblue',\n",
    "'firebrick',\n",
    "'floralwhite',\n",
    "'forestgreen',\n",
    "'fuchsia',\n",
    "'gainsboro',\n",
    "'ghostwhite',\n",
    "'gold',\n",
    "'goldenrod',\n",
    "'gray',\n",
    "'green',\n",
    "'greenyellow',\n",
    "'grey',\n",
    "'honeydew',\n",
    "'hotpink',\n",
    "'indianred',\n",
    "'indigo',\n",
    "'ivory',\n",
    "'khaki',\n",
    "'lavender',\n",
    "'lavenderblush',\n",
    "'lawngreen',\n",
    "'lemonchiffon',\n",
    "'lightblue',\n",
    "'lightcoral',\n",
    "'lightcyan',\n",
    "'lightgoldenrodyellow',\n",
    "'lightgray',\n",
    "'lightgreen',\n",
    "'lightgrey',\n",
    "'lightpink',\n",
    "'lightsalmon',\n",
    "'lightseagreen',\n",
    "'lightskyblue',\n",
    "'lightslategray',\n",
    "'lightslategrey',\n",
    "'lightsteelblue',\n",
    "'lightyellow',\n",
    "'lime',\n",
    "'limegreen',\n",
    "'linen',\n",
    "'magenta',\n",
    "'maroon',\n",
    "'mediumaquamarine',\n",
    "'mediumblue',\n",
    "'mediumorchid',\n",
    "'mediumpurple',\n",
    "'mediumseagreen',\n",
    "'mediumslateblue',\n",
    "'mediumspringgreen',\n",
    "'mediumturquoise',\n",
    "'mediumvioletred',\n",
    "'midnightblue',\n",
    "'mintcream',\n",
    "'mistyrose',\n",
    "'moccasin',\n",
    "'navajowhite',\n",
    "'navy',\n",
    "'oldlace',\n",
    "'olive',\n",
    "'olivedrab',\n",
    "'orange',\n",
    "'orangered',\n",
    "'orchid',\n",
    "'palegoldenrod',\n",
    "'palegreen',\n",
    "'paleturquoise',\n",
    "'palevioletred',\n",
    "'papayawhip',\n",
    "'peachpuff',\n",
    "'peru',\n",
    "'pink',\n",
    "'plum',\n",
    "'powderblue',\n",
    "'purple',\n",
    "'rebeccapurple',\n",
    "'red',\n",
    "'rosybrown',\n",
    "'royalblue',\n",
    "'saddlebrown',\n",
    "'salmon',\n",
    "'sandybrown',\n",
    "'seagreen',\n",
    "'seashell',\n",
    "'sienna',\n",
    "'silver',\n",
    "'skyblue',\n",
    "'slateblue',\n",
    "'slategray',\n",
    "'slategrey',\n",
    "'snow',\n",
    "'springgreen',\n",
    "'steelblue',\n",
    "'tan',\n",
    "'teal',\n",
    "'thistle',\n",
    "'tomato',\n",
    "'turquoise',\n",
    "'violet',\n",
    "'wheat',\n",
    "'white',\n",
    "'whitesmoke',\n",
    "'yellow',\n",
    "'yellowgreen']"
   ]
  },
  {
   "cell_type": "code",
   "execution_count": 16,
   "id": "f12e2e22",
   "metadata": {},
   "outputs": [
    {
     "data": {
      "text/plain": "<Figure size 1296x720 with 1 Axes>",
      "image/png": "[encoded data removed]"
     },
     "metadata": {
      "needs_background": "light"
     },
     "output_type": "display_data"
    }
   ],
   "source": [
    "fig, ax1 = plt.subplots(1)\n",
    "for i in range(len(model.labels_)):\n",
    "    ax1.scatter(X[model.labels_==i, 0], X[model.labels_==i, 1]\n",
    "            ,marker='o' #点的形状\n",
    "            ,s=10 #点的大小\n",
    "            ,c=color[np.mod(i,len(color))]\n",
    "           )\n",
    "    point_count = len(X[model.labels_==i])\n",
    "    for j in range(point_count):\n",
    "        for k in range(point_count):\n",
    "            if i == k:\n",
    "                continue\n",
    "            ax1.plot(X[model.labels_==i][[j,k],[0,0]],X[model.labels_==i][[j,k],[1,1]],c=color[np.mod(i,len(color))])\n",
    "#     center = X[y_pred==i].sum(axis=0)/(y_pred==i).sum()\n",
    "#     ax1.scatter(center[0], center[1]\n",
    "#             ,marker='*' #点的形状\n",
    "#             ,s=100 #点的大小\n",
    "#             ,c=color[np.mod(i,len(color))]\n",
    "#            )\n",
    "ax1.text(centroid[0,0], centroid[0,1], '广州', fontsize=15)\n",
    "ax1.text(centroid[1,0], centroid[1,1], '深圳', fontsize=15)\n",
    "ax1.text(centroid[2,0], centroid[2,1], '东莞', fontsize=15)\n",
    "ax1.text(centroid[3,0], centroid[3,1], '佛山', fontsize=15)\n",
    "fig.set_size_inches(18, 10)\n",
    "plt.show()"
   ]
  },
  {
   "cell_type": "code",
   "execution_count": 17,
   "id": "d52be35b",
   "metadata": {},
   "outputs": [
    {
     "data": {
      "text/plain": "<Figure size 1296x720 with 1 Axes>",
      "image/png": "[encoded data removed]"
     },
     "metadata": {
      "needs_background": "light"
     },
     "output_type": "display_data"
    }
   ],
   "source": [
    "fig, ax1 = plt.subplots(1)\n",
    "for i in range(len(new_labels_)):\n",
    "    ax1.scatter(X[new_labels_==i, 0], X[new_labels_==i, 1]\n",
    "            ,marker='o' #点的形状\n",
    "            ,s=10 #点的大小\n",
    "            ,c=color[np.mod(i,len(color))]\n",
    "           )\n",
    "    point_count = len(X[new_labels_==i])\n",
    "    for j in range(point_count):\n",
    "        for k in range(point_count):\n",
    "            if i == k:\n",
    "                continue\n",
    "            ax1.plot(X[new_labels_==i][[j,k],[0,0]],X[new_labels_==i][[j,k],[1,1]],c=color[np.mod(i,len(color))])\n",
    "#     center = X[y_pred==i].sum(axis=0)/(y_pred==i).sum()\n",
    "#     ax1.scatter(center[0], center[1]\n",
    "#             ,marker='*' #点的形状\n",
    "#             ,s=100 #点的大小\n",
    "#             ,c=color[np.mod(i,len(color))]\n",
    "#            )\n",
    "ax1.text(centroid[0,0], centroid[0,1], '广州', fontsize=15)\n",
    "ax1.text(centroid[1,0], centroid[1,1], '深圳', fontsize=15)\n",
    "ax1.text(centroid[2,0], centroid[2,1], '东莞', fontsize=15)\n",
    "ax1.text(centroid[3,0], centroid[3,1], '佛山', fontsize=15)\n",
    "fig.set_size_inches(18, 10)\n",
    "plt.show()"
   ]
  },
  {
   "cell_type": "markdown",
   "id": "1580729e",
   "metadata": {},
   "source": [
    "## 重新定价并分析效果"
   ]
  },
  {
   "cell_type": "markdown",
   "id": "ec114ceb",
   "metadata": {},
   "source": [
    "### 生成任务包表格"
   ]
  },
  {
   "cell_type": "code",
   "execution_count": 115,
   "id": "d5e82370",
   "metadata": {},
   "outputs": [
    {
     "data": {
      "text/html": [
       "<div>\n",
       "<style scoped>\n",
       "    .dataframe tbody tr th:only-of-type {\n",
       "        vertical-align: middle;\n",
       "    }\n",
       "\n",
       "    .dataframe tbody tr th {\n",
       "        vertical-align: top;\n",
       "    }\n",
       "\n",
       "    .dataframe thead th {\n",
       "        text-align: right;\n",
       "    }\n",
       "</style>\n",
       "<table border=\"1\" class=\"dataframe\">\n",
       "  <thead>\n",
       "    <tr style=\"text-align: right;\">\n",
       "      <th></th>\n",
       "      <th>task_pack_idx</th>\n",
       "      <th>tasks_idx</th>\n",
       "    </tr>\n",
       "  </thead>\n",
       "  <tbody>\n",
       "    <tr>\n",
       "      <th>0</th>\n",
       "      <td>0</td>\n",
       "      <td>[0, 28, 361, 443]</td>\n",
       "    </tr>\n",
       "    <tr>\n",
       "      <th>1</th>\n",
       "      <td>1</td>\n",
       "      <td>[1, 75, 101, 106, 363, 445]</td>\n",
       "    </tr>\n",
       "    <tr>\n",
       "      <th>2</th>\n",
       "      <td>2</td>\n",
       "      <td>[2, 357, 359]</td>\n",
       "    </tr>\n",
       "    <tr>\n",
       "      <th>3</th>\n",
       "      <td>3</td>\n",
       "      <td>[3, 5]</td>\n",
       "    </tr>\n",
       "    <tr>\n",
       "      <th>4</th>\n",
       "      <td>4</td>\n",
       "      <td>[4, 7, 27, 32]</td>\n",
       "    </tr>\n",
       "    <tr>\n",
       "      <th>...</th>\n",
       "      <td>...</td>\n",
       "      <td>...</td>\n",
       "    </tr>\n",
       "    <tr>\n",
       "      <th>309</th>\n",
       "      <td>309</td>\n",
       "      <td>[810, 811, 812, 818]</td>\n",
       "    </tr>\n",
       "    <tr>\n",
       "      <th>310</th>\n",
       "      <td>310</td>\n",
       "      <td>[815, 816, 822]</td>\n",
       "    </tr>\n",
       "    <tr>\n",
       "      <th>311</th>\n",
       "      <td>311</td>\n",
       "      <td>[820]</td>\n",
       "    </tr>\n",
       "    <tr>\n",
       "      <th>312</th>\n",
       "      <td>312</td>\n",
       "      <td>[825]</td>\n",
       "    </tr>\n",
       "    <tr>\n",
       "      <th>313</th>\n",
       "      <td>313</td>\n",
       "      <td>[831]</td>\n",
       "    </tr>\n",
       "  </tbody>\n",
       "</table>\n",
       "<p>314 rows × 2 columns</p>\n",
       "</div>"
      ],
      "text/plain": [
       "     task_pack_idx                    tasks_idx\n",
       "0                0            [0, 28, 361, 443]\n",
       "1                1  [1, 75, 101, 106, 363, 445]\n",
       "2                2                [2, 357, 359]\n",
       "3                3                       [3, 5]\n",
       "4                4               [4, 7, 27, 32]\n",
       "..             ...                          ...\n",
       "309            309         [810, 811, 812, 818]\n",
       "310            310              [815, 816, 822]\n",
       "311            311                        [820]\n",
       "312            312                        [825]\n",
       "313            313                        [831]\n",
       "\n",
       "[314 rows x 2 columns]"
      ]
     },
     "execution_count": 115,
     "metadata": {},
     "output_type": "execute_result"
    }
   ],
   "source": [
    "task_pack_num = len(pd.Series(new_labels_).unique())\n",
    "task_num = len(new_labels_)\n",
    "visited = np.array([False]*task_num)\n",
    "tasks_idx_arr = np.zeros(task_pack_num,dtype=object)\n",
    "j = 0\n",
    "for i in range(task_num):\n",
    "    if (visited[i]): \n",
    "        continue\n",
    "    visited[i] = True\n",
    "    task_pack_choosed = new_labels_ == new_labels_[i]\n",
    "    visited[task_pack_choosed] = True\n",
    "    tasks_idx_arr[j] = np.array(range(task_num))[task_pack_choosed]\n",
    "    j += 1\n",
    "task_pack_number_df = pd.DataFrame({'task_pack_idx':range(task_pack_num), 'tasks_idx':tasks_idx_arr})\n",
    "task_pack_number_df"
   ]
  },
  {
   "cell_type": "markdown",
   "id": "8ffd652a",
   "metadata": {},
   "source": [
    "### 修改模型"
   ]
  },
  {
   "cell_type": "code",
   "execution_count": 126,
   "id": "5618f2a6",
   "metadata": {},
   "outputs": [],
   "source": [
    "import numpy as np\n",
    "import pandas as pd\n",
    "\n",
    "class FixPrice:\n",
    "    df1 = None       # 表一\n",
    "    df2 = None       # 表二\n",
    "    a = 0            # 系数\n",
    "    b = 0            # 系数\n",
    "    X1 = None        # 任务坐标\n",
    "    X2 = None        # 会员坐标\n",
    "    w_limit = None   # 任务吸引度阈值\n",
    "    w_packed = None         # 打包后的任务对会员的吸引度\n",
    "    X1_packed = None # 打包后的任务坐标\n",
    "    w_limit_packed = None # 打包后的阈值\n",
    "    \n",
    "    def __init__(self, a = 0.01175, b = 0.000164):\n",
    "        df1 = pd.read_excel('dataset/2017B/附件一：已结束项目任务数据.xls')\n",
    "        df2 = pd.read_excel('dataset/2017B/附件二：会员信息数据-分列.xlsx')\n",
    "        self.df1 = df1\n",
    "        self.df2 =df2\n",
    "        self.a = a\n",
    "        self.b = b\n",
    "        \n",
    "        C_before = np.array(df1['任务执行情况'])\n",
    "        P_before = np.array(df1['任务标价'])\n",
    "        \n",
    "        X1 = np.array(df1[['任务gps 纬度','任务gps经度']])\n",
    "        X2 = np.array(df2[['会员位置纬度','会员位置经度']])\n",
    "        \n",
    "        self.X1 = X1\n",
    "        self.X2 = X2\n",
    "        \n",
    "        # 计算阈值\n",
    "        w_before = np.zeros((X1.shape[0],X2.shape[0]))\n",
    "        for i in range(X1.shape[0]):\n",
    "            for j in range(X2.shape[0]):\n",
    "                l = ((X1[i,0] - X2[j,0])**2 + (X1[i,1] - X2[j,1])**2)*111**2\n",
    "                w_before[i,j] = np.sqrt(a/l + b * P_before[i]**2)\n",
    "        self.w_limit = np.zeros(X1.shape[0])\n",
    "        for i in range(X1.shape[0]):\n",
    "            if C_before[i] == 1:\n",
    "                self.w_limit[i] = np.min(w_before[i])\n",
    "            else:\n",
    "                self.w_limit[i] = np.max(w_before[i])\n",
    "        # 计算打包后任务的各项指标\n",
    "        task_pack_num = len(task_pack_number_df)\n",
    "        self.X1_packed = np.zeros((task_pack_num,2))\n",
    "        self.w_limit_packed = np.zeros(task_pack_num)\n",
    "        for i in range(task_pack_num):\n",
    "            tasks_to_pack = task_pack_number_df.iloc[i]['tasks_idx']\n",
    "            self.X1_packed[i][0] = self.X1[tasks_to_pack,0].mean()\n",
    "            self.X1_packed[i][1] = self.X1[tasks_to_pack,1].mean()\n",
    "            self.w_limit_packed[i] = self.w_limit[tasks_to_pack].sum()\n",
    "#         print(self.X1_packed)\n",
    "        print(self.w_limit_packed)\n",
    "        \n",
    "        \n",
    "                \n",
    "    def makePrice(self,P):     # 根据定价求吸引度\n",
    "        # 计算吸引度,距离单位为km\n",
    "        self.w_packed = np.zeros((self.X1_packed.shape[0],self.X2.shape[0]))\n",
    "        for i in range(self.X1_packed.shape[0]):\n",
    "            for j in range(self.X2.shape[0]):\n",
    "                tasks_idx = task_pack_number_df['tasks_idx'][i]\n",
    "                task_count = len(tasks_idx)\n",
    "                task_dis_sum = 0\n",
    "                task_dis_ave = 0\n",
    "                if task_count != 1:\n",
    "                    for each_task_one in range(task_count):\n",
    "                        for each_task_two in range(task_count):\n",
    "                            if each_task_one == each_task_two:\n",
    "                                continue\n",
    "                            task_dis_sum += np.sqrt(((task_location_values[tasks_idx[each_task_one]]\n",
    "                            - task_location_values[tasks_idx[each_task_two]])**2).sum())\n",
    "                    task_dis_ave = task_dis_sum / ((task_count*(task_count-1))/2)\n",
    "                l = ((self.X1_packed[i,0] - self.X2[j,0])**2 \n",
    "                     + (self.X1_packed[i,1] - self.X2[j,1])**2\n",
    "                     + task_count * task_dis_ave**2)*111**2\n",
    "                self.w_packed[i,j] = np.sqrt(self.a/l + self.b * P[i]**2)\n",
    "                \n",
    "    def match(self):           # 匹配\n",
    "        \n",
    "        member_limit = np.array(self.df2['预订任务限额'].astype('float'))\n",
    "        group = self.df2.groupby('预订任务开始时间')\n",
    "\n",
    "        # 每个时间点有多少会员\n",
    "        group_count = group.count()['会员编号']\n",
    "        group_cumsum = np.array(group_count).cumsum()\n",
    "        group_cumsum\n",
    "\n",
    "        is_order = np.zeros(self.X1_packed.shape[0])                    # 用于标记任务是否被预定\n",
    "        C = np.zeros(self.X1_packed.shape[0])                           # 用于标记任务是否完成\n",
    "        for k in range(len(group_count)):                   # 遍历各时间点\n",
    "            for j in range(group_count[k]):                 # 遍历各会员\n",
    "                member_index = group_cumsum[k]-group_count[k]+j    # 当前会员的索引\n",
    "                current_w = pd.Series(self.w_packed[:,member_index])\n",
    "                current_w = current_w.sort_values(ascending=False) # 任务按吸引度从大到小排\n",
    "                work_index = current_w.index                       # 任务按吸引度排序后，应记录索引\n",
    "                current_w.index = range(self.X1_packed.shape[0])\n",
    "                for i in range(self.X1_packed.shape[0]):                # 遍历各任务\n",
    "                    if member_limit[member_index] == 0:          # 配额为0，跳出循环\n",
    "                        break\n",
    "                    if current_w[i] > self.w_limit[work_index[i]] and is_order[work_index[i]] == 0: # 吸引力大于阈值,且该任务未被预定\n",
    "                        C[work_index[i]] = 1                                                  # 任务i被完成\n",
    "                        is_order[work_index[i]] = 1                                           # 任务i已被预定\n",
    "                        member_limit[member_index] -= len(task_pack_number_df['tasks_idx'][i]) # 会员配额减少\n",
    "        return C"
   ]
  },
  {
   "cell_type": "markdown",
   "id": "dcb5e93c",
   "metadata": {},
   "source": [
    "### 调用模型求解并得出结果"
   ]
  }
 ],
 "metadata": {
  "kernelspec": {
   "display_name": "Python 3 (ipykernel)",
   "language": "python",
   "name": "python3"
  },
  "language_info": {
   "codemirror_mode": {
    "name": "ipython",
    "version": 3
   },
   "file_extension": ".py",
   "mimetype": "text/x-python",
   "name": "python",
   "nbconvert_exporter": "python",
   "pygments_lexer": "ipython3",
   "version": "3.9.12"
  },
  "toc": {
   "base_numbering": 1,
   "nav_menu": {},
   "number_sections": true,
   "sideBar": true,
   "skip_h1_title": false,
   "title_cell": "Table of Contents",
   "title_sidebar": "Contents",
   "toc_cell": false,
   "toc_position": {
    "height": "calc(100% - 180px)",
    "left": "10px",
    "top": "150px",
    "width": "383.594px"
   },
   "toc_section_display": true,
   "toc_window_display": true
  }
 },
 "nbformat": 4,
 "nbformat_minor": 5
}