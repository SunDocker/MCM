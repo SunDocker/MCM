{
 "cells": [
  {
   "cell_type": "markdown",
   "source": [
    "# 公共数据"
   ],
   "metadata": {
    "collapsed": false
   }
  },
  {
   "cell_type": "code",
   "execution_count": 12,
   "outputs": [],
   "source": [
    "import pandas as pd"
   ],
   "metadata": {
    "collapsed": false,
    "pycharm": {
     "name": "#%%\n"
    }
   }
  },
  {
   "cell_type": "code",
   "execution_count": 13,
   "outputs": [],
   "source": [
    "df1 = pd.read_excel('dataset/附件一：已结束项目任务数据.xls')\n",
    "task_location_values = df1[['任务gps经度','任务gps 纬度']].values\n",
    "task_price_values = df1['任务标价'].values"
   ],
   "metadata": {
    "collapsed": false,
    "pycharm": {
     "name": "#%%\n"
    }
   }
  },
  {
   "cell_type": "code",
   "execution_count": 14,
   "outputs": [],
   "source": [
    "df2 = pd.read_excel('dataset/附件二：会员信息数据-分列.xlsx')\n",
    "vip_location_values = df2[['会员位置经度','会员位置纬度']].values\n",
    "vip_lim_values = df2['预订任务限额'].values\n",
    "vip_credit_values = df2['信誉值'].values"
   ],
   "metadata": {
    "collapsed": false,
    "pycharm": {
     "name": "#%%\n"
    }
   }
  },
  {
   "cell_type": "code",
   "execution_count": 15,
   "outputs": [],
   "source": [
    "import matplotlib.pyplot as plt\n",
    "plt.rcParams['font.sans-serif'] = ['SimHei']   #解决中文显示问题\n",
    "plt.rcParams['axes.unicode_minus'] = False    # 解决中文显示问题"
   ],
   "metadata": {
    "collapsed": false,
    "pycharm": {
     "name": "#%%\n"
    }
   }
  },
  {
   "cell_type": "code",
   "execution_count": 16,
   "outputs": [],
   "source": [
    "import numpy as np\n",
    "def get_euclidean_dis(x1, y1, x2, y2):\n",
    "    x_squ = (x1 - x2)**2\n",
    "    y_squ = (y1 - y2)**2\n",
    "    dis = np.sqrt(x_squ + y_squ) * 111 * 1000\n",
    "    return dis"
   ],
   "metadata": {
    "collapsed": false,
    "pycharm": {
     "name": "#%%\n"
    }
   }
  },
  {
   "cell_type": "markdown",
   "source": [
    "## 计算得到的数据"
   ],
   "metadata": {
    "collapsed": false
   }
  },
  {
   "cell_type": "markdown",
   "source": [
    "### 与城市中心的距离"
   ],
   "metadata": {
    "collapsed": false
   }
  },
  {
   "cell_type": "code",
   "execution_count": 17,
   "outputs": [
    {
     "name": "stderr",
     "output_type": "stream",
     "text": [
      "D:\\ProgramData\\Anaconda3\\Lib\\site-packages\\sklearn\\cluster\\_kmeans.py:1334: UserWarning: KMeans is known to have a memory leak on Windows with MKL, when there are less chunks than available threads. You can avoid it by setting the environment variable OMP_NUM_THREADS=4.\n",
      "  warnings.warn(\n"
     ]
    },
    {
     "data": {
      "text/plain": "                  0\ncount    835.000000\nmean   17783.392481\nstd     9654.577805\nmin      396.992079\n25%    11623.089207\n50%    16396.632905\n75%    22787.597732\nmax    94366.816502",
      "text/html": "<div>\n<style scoped>\n    .dataframe tbody tr th:only-of-type {\n        vertical-align: middle;\n    }\n\n    .dataframe tbody tr th {\n        vertical-align: top;\n    }\n\n    .dataframe thead th {\n        text-align: right;\n    }\n</style>\n<table border=\"1\" class=\"dataframe\">\n  <thead>\n    <tr style=\"text-align: right;\">\n      <th></th>\n      <th>0</th>\n    </tr>\n  </thead>\n  <tbody>\n    <tr>\n      <th>count</th>\n      <td>835.000000</td>\n    </tr>\n    <tr>\n      <th>mean</th>\n      <td>17783.392481</td>\n    </tr>\n    <tr>\n      <th>std</th>\n      <td>9654.577805</td>\n    </tr>\n    <tr>\n      <th>min</th>\n      <td>396.992079</td>\n    </tr>\n    <tr>\n      <th>25%</th>\n      <td>11623.089207</td>\n    </tr>\n    <tr>\n      <th>50%</th>\n      <td>16396.632905</td>\n    </tr>\n    <tr>\n      <th>75%</th>\n      <td>22787.597732</td>\n    </tr>\n    <tr>\n      <th>max</th>\n      <td>94366.816502</td>\n    </tr>\n  </tbody>\n</table>\n</div>"
     },
     "execution_count": 17,
     "metadata": {},
     "output_type": "execute_result"
    }
   ],
   "source": [
    "from sklearn.cluster import KMeans\n",
    "import numpy as np\n",
    "cluster = KMeans(n_clusters=4,random_state=0).fit(task_location_values)\n",
    "y_pred = cluster.labels_\n",
    "centroid = cluster.cluster_centers_\n",
    "task_dis_to_city_center = np.zeros(len(df1))\n",
    "for i in range(len(task_location_values)):\n",
    "    center_loc = centroid[y_pred[i]]\n",
    "    task_dis_to_city_center[i] = get_euclidean_dis(task_location_values[i,0],\n",
    "                                                   task_location_values[i,1],\n",
    "                                                   center_loc[0],\n",
    "                                                   center_loc[1])\n",
    "pd.DataFrame(task_dis_to_city_center).describe()"
   ],
   "metadata": {
    "collapsed": false,
    "pycharm": {
     "name": "#%%\n"
    }
   }
  },
  {
   "cell_type": "markdown",
   "source": [
    "### 附近任务数"
   ],
   "metadata": {
    "collapsed": false
   }
  },
  {
   "cell_type": "code",
   "execution_count": 18,
   "outputs": [],
   "source": [
    "import numpy as np\n",
    "task_num = len(df1)\n",
    "task_around_task_count = np.zeros(task_num)\n",
    "for i in range(task_num):\n",
    "    for j in range(task_num):\n",
    "        if i == j:\n",
    "            continue\n",
    "        if get_euclidean_dis(task_location_values[i,0],task_location_values[i,1],\n",
    "                             task_location_values[j,0],task_location_values[j,1],)<=2000:\n",
    "            task_around_task_count[i] += 1"
   ],
   "metadata": {
    "collapsed": false,
    "pycharm": {
     "name": "#%%\n"
    }
   }
  },
  {
   "cell_type": "markdown",
   "source": [
    "### 附近会员数及平均完成能力"
   ],
   "metadata": {
    "collapsed": false
   }
  },
  {
   "cell_type": "code",
   "execution_count": 19,
   "outputs": [],
   "source": [
    "def entropy_weight(data):\n",
    "    # 假设data已经正向化过了\n",
    "    data = np.array(data)\n",
    "    # 归一化（可能已经归约过了）\n",
    "    data = (data - data.min(axis=0)) / (data.max(axis=0) - data.min(axis=0))\n",
    "    # 概率矩阵\n",
    "    p = data / data.sum(axis=0)\n",
    "    # 信息熵\n",
    "    E = - np.nansum(p * np.log(np.where(p==0,1,p)), axis=0) / np.log(len(data[0]))\n",
    "    # 熵权\n",
    "    return (1 - E) / (1 - E).sum()"
   ],
   "metadata": {
    "collapsed": false,
    "pycharm": {
     "name": "#%%\n"
    }
   }
  },
  {
   "cell_type": "code",
   "execution_count": 20,
   "outputs": [
    {
     "name": "stdout",
     "output_type": "stream",
     "text": [
      "[0.61346148 0.38653852]\n",
      "[[4.89177489e-01 1.00000000e+00]\n",
      " [7.01298701e-01 5.57764693e-01]\n",
      " [5.97402597e-01 4.11089860e-01]\n",
      " ...\n",
      " [0.00000000e+00 8.97093300e-08]\n",
      " [0.00000000e+00 5.14725664e-08]\n",
      " [0.00000000e+00 0.00000000e+00]]\n",
      "[6.86630069e-01 6.45817277e-01 5.25385547e-01 ... 3.46761120e-08\n",
      " 1.98961298e-08 0.00000000e+00]\n"
     ]
    }
   ],
   "source": [
    "vip_lim_credit = np.hstack((vip_lim_values.reshape(-1,1),vip_credit_values.reshape(-1,1)))\n",
    "vip_cap_w = entropy_weight(vip_lim_credit)\n",
    "print(vip_cap_w)\n",
    "vip_lim_credit_con = (vip_lim_credit - vip_lim_credit.min(axis=0)) / (vip_lim_credit.max(axis=0) - vip_lim_credit.min(axis=0))\n",
    "vip_capbility = (vip_cap_w * vip_lim_credit_con).sum(axis=1)\n",
    "print(vip_lim_credit_con)\n",
    "print(vip_capbility)"
   ],
   "metadata": {
    "collapsed": false,
    "pycharm": {
     "name": "#%%\n"
    }
   }
  },
  {
   "cell_type": "code",
   "execution_count": 21,
   "outputs": [],
   "source": [
    "import numpy as np\n",
    "task_num = len(df1)\n",
    "vip_num = len(df2)\n",
    "task_around_vip_count = np.zeros(task_num)\n",
    "task_around_vip_capbility_sum = np.zeros(task_num)\n",
    "for i in range(task_num):\n",
    "    for j in range(vip_num):\n",
    "        if get_euclidean_dis(task_location_values[i,0],task_location_values[i,1],\n",
    "                             vip_location_values[j,0],vip_location_values[j,1]) <= 2000:\n",
    "            task_around_vip_count[i] += 1\n",
    "            task_around_vip_capbility_sum[i] += vip_capbility[i]\n",
    "task_around_vip_capbility_ave = task_around_vip_capbility_sum / np.where(task_around_vip_count==0,\n",
    "                                                              1,task_around_vip_count)"
   ],
   "metadata": {
    "collapsed": false,
    "pycharm": {
     "name": "#%%\n"
    }
   }
  },
  {
   "cell_type": "code",
   "execution_count": 21,
   "outputs": [],
   "source": [],
   "metadata": {
    "collapsed": false,
    "pycharm": {
     "name": "#%%\n"
    }
   }
  },
  {
   "cell_type": "markdown",
   "id": "d43be857",
   "metadata": {},
   "source": [
    "# 问题1"
   ]
  },
  {
   "cell_type": "markdown",
   "id": "dd067f75",
   "metadata": {},
   "source": [
    "## 任务定价规律"
   ]
  },
  {
   "cell_type": "markdown",
   "id": "d7beeebb",
   "metadata": {},
   "source": [
    "### 任务本身的性质：与市中心的距离"
   ]
  },
  {
   "cell_type": "markdown",
   "id": "1df84900",
   "metadata": {
    "pycharm": {
     "name": "#%% md\n"
    }
   },
   "source": [
    "#### 聚类划分城市"
   ]
  },
  {
   "cell_type": "code",
   "execution_count": 22,
   "id": "cc89f77b",
   "metadata": {},
   "outputs": [
    {
     "name": "stderr",
     "output_type": "stream",
     "text": [
      "D:\\ProgramData\\Anaconda3\\Lib\\site-packages\\sklearn\\cluster\\_kmeans.py:1334: UserWarning: KMeans is known to have a memory leak on Windows with MKL, when there are less chunks than available threads. You can avoid it by setting the environment variable OMP_NUM_THREADS=4.\n",
      "  warnings.warn(\n"
     ]
    }
   ],
   "source": [
    "from sklearn.cluster import KMeans\n",
    "n_clusters = 4\n",
    "# 实例化并拟合\n",
    "cluster = KMeans(n_clusters=n_clusters,random_state=0).fit(task_location_values)\n",
    "# cluster = AgglomerativeClustering(n_clusters=n_clusters).fit(task_gps_values)\n",
    "# 此时聚类已经完成了\n",
    "#重要属性Labels_，查看聚好的类别，每个样本所对应的类\n",
    "y_pred = cluster.labels_"
   ]
  },
  {
   "cell_type": "code",
   "execution_count": 23,
   "id": "a08ac58e",
   "metadata": {},
   "outputs": [
    {
     "data": {
      "text/plain": "<Figure size 864x576 with 1 Axes>",
      "image/png": "[encoded data removed]"
     },
     "metadata": {
      "needs_background": "light"
     },
     "output_type": "display_data"
    }
   ],
   "source": [
    "import matplotlib.pyplot as plt\n",
    "from sklearn.preprocessing import StandardScaler\n",
    "color_map = [\"Reds\",\"Blues\",\"Oranges\",\"Greens\"]\n",
    "\n",
    "fig, ax1 = plt.subplots(1)\n",
    "for i in range(n_clusters):\n",
    "    ax1.scatter(task_location_values[y_pred==i, 0], task_location_values[y_pred==i, 1]\n",
    "            ,marker='o' #点的形状\n",
    "            ,s=16 #点的大小\n",
    "            ,c=task_price_values[y_pred==i]\n",
    "            ,cmap=color_map[i]\n",
    "           )\n",
    "#重要属性cLuster_centers_，查看质心\n",
    "centroid = cluster.cluster_centers_\n",
    "ax1.scatter(centroid[:,0],centroid[:,1]\n",
    "           ,marker=\"x\"\n",
    "           ,s=200\n",
    "           ,c=\"black\")\n",
    "ax1.text(centroid[0,0], centroid[0,1], '广州', fontsize=15)\n",
    "ax1.text(centroid[1,0], centroid[1,1], '深圳', fontsize=15)\n",
    "ax1.text(centroid[2,0], centroid[2,1], '东莞', fontsize=15)\n",
    "ax1.text(centroid[3,0], centroid[3,1], '佛山', fontsize=15)\n",
    "ax1.set_xlabel('经度', fontsize=12)\n",
    "ax1.set_ylabel('纬度', fontsize=12)\n",
    "fig.set_size_inches(12, 8)\n",
    "plt.show()"
   ]
  },
  {
   "cell_type": "markdown",
   "id": "13763121",
   "metadata": {},
   "source": [
    "#### 算出距离"
   ]
  },
  {
   "cell_type": "code",
   "execution_count": 24,
   "id": "4ba0863f",
   "metadata": {},
   "outputs": [
    {
     "data": {
      "text/plain": "                  0\ncount    835.000000\nmean   17783.392481\nstd     9654.577805\nmin      396.992079\n25%    11623.089207\n50%    16396.632905\n75%    22787.597732\nmax    94366.816502",
      "text/html": "<div>\n<style scoped>\n    .dataframe tbody tr th:only-of-type {\n        vertical-align: middle;\n    }\n\n    .dataframe tbody tr th {\n        vertical-align: top;\n    }\n\n    .dataframe thead th {\n        text-align: right;\n    }\n</style>\n<table border=\"1\" class=\"dataframe\">\n  <thead>\n    <tr style=\"text-align: right;\">\n      <th></th>\n      <th>0</th>\n    </tr>\n  </thead>\n  <tbody>\n    <tr>\n      <th>count</th>\n      <td>835.000000</td>\n    </tr>\n    <tr>\n      <th>mean</th>\n      <td>17783.392481</td>\n    </tr>\n    <tr>\n      <th>std</th>\n      <td>9654.577805</td>\n    </tr>\n    <tr>\n      <th>min</th>\n      <td>396.992079</td>\n    </tr>\n    <tr>\n      <th>25%</th>\n      <td>11623.089207</td>\n    </tr>\n    <tr>\n      <th>50%</th>\n      <td>16396.632905</td>\n    </tr>\n    <tr>\n      <th>75%</th>\n      <td>22787.597732</td>\n    </tr>\n    <tr>\n      <th>max</th>\n      <td>94366.816502</td>\n    </tr>\n  </tbody>\n</table>\n</div>"
     },
     "execution_count": 24,
     "metadata": {},
     "output_type": "execute_result"
    }
   ],
   "source": [
    "import numpy as np\n",
    "task_dis_to_city_center = np.zeros(len(df1))\n",
    "for i in range(len(task_location_values)):\n",
    "    center_loc = centroid[y_pred[i]]\n",
    "    task_dis_to_city_center[i] = get_euclidean_dis(task_location_values[i,0],\n",
    "                                                   task_location_values[i,1],\n",
    "                                                   center_loc[0],\n",
    "                                                   center_loc[1])\n",
    "pd.DataFrame(task_dis_to_city_center).describe()"
   ]
  },
  {
   "cell_type": "code",
   "execution_count": 25,
   "id": "463db253",
   "metadata": {},
   "outputs": [
    {
     "name": "stdout",
     "output_type": "stream",
     "text": [
      "(10000.0, 15000.0]    200\n",
      "(15000.0, 20000.0]    196\n",
      "(20000.0, 25000.0]    119\n",
      "(5000.0, 10000.0]     107\n",
      "(25000.0, 30000.0]     96\n",
      "(30000.0, inf]         66\n",
      "(0.0, 5000.0]          51\n",
      "Name: 任务距离中心距离所在范围, dtype: int64\n"
     ]
    },
    {
     "data": {
      "text/plain": "<Figure size 1152x576 with 1 Axes>",
      "image/png": "[encoded data removed]"
     },
     "metadata": {
      "needs_background": "light"
     },
     "output_type": "display_data"
    }
   ],
   "source": [
    "center_dis_price_df = pd.DataFrame({'任务距离中心距离':task_dis_to_city_center, '任务标价':task_price_values})\n",
    "center_dis_price_df['任务距离中心距离所在范围'] = pd.cut(center_dis_price_df['任务距离中心距离'], [0, 5000, 10000, 15000,20000,25000,30000,np.inf])\n",
    "print(center_dis_price_df['任务距离中心距离所在范围'].value_counts())\n",
    "center_dis_price_df.groupby(center_dis_price_df['任务距离中心距离所在范围']).mean()[['任务标价']].plot(figsize=(16, 8),legend=None)\n",
    "plt.xlabel('任务离市中心的距离所在范围(m)',fontsize=16)\n",
    "plt.ylabel('任务平均定价(元)',fontsize=16)\n",
    "plt.tick_params(labelsize=13)"
   ]
  },
  {
   "cell_type": "code",
   "execution_count": 29,
   "id": "87dde7ad",
   "metadata": {},
   "outputs": [
    {
     "data": {
      "text/plain": "Jarque_beraResult(statistic=29.762054812378942, pvalue=3.445497288590005e-07)"
     },
     "execution_count": 29,
     "metadata": {},
     "output_type": "execute_result"
    }
   ],
   "source": [
    "from scipy.stats import jarque_bera, boxcox_normmax\n",
    "from scipy.special import boxcox1p\n",
    "max_box = boxcox_normmax(task_dis_to_city_center+1)\n",
    "task_dis_to_city_center_box = boxcox1p(task_dis_to_city_center,max_box)\n",
    "jarque_bera(task_dis_to_city_center_box)"
   ]
  },
  {
   "cell_type": "code",
   "execution_count": null,
   "id": "5b630027",
   "metadata": {},
   "outputs": [],
   "source": [
    "import pandas as pd\n",
    "import matplotlib.pyplot as plt\n",
    "from scipy.stats import norm\n",
    "\n",
    "plt.rcParams['font.sans-serif'] = ['Microsoft YaHei']\n",
    "\n",
    "plt.figure(1)\n",
    "task_dis_to_city_center_del = task_dis_to_city_center[task_dis_to_city_center < 50000]\n",
    "n, bins, patches = plt.hist(task_dis_to_city_center_box,bins=50,density=True)\n",
    "y = norm.pdf(bins, task_dis_to_city_center_box.mean(), task_dis_to_city_center_box.std())\n",
    "plt.twinx()\n",
    "plt.plot(bins, y, 'r--')"
   ]
  },
  {
   "cell_type": "code",
   "execution_count": null,
   "id": "2b345b0e",
   "metadata": {},
   "outputs": [],
   "source": [
    "from sklearn.feature_selection import f_regression\n",
    "from sklearn.feature_selection import mutual_info_regression as MIR\n",
    "info = MIR(center_dis_price_df['任务距离中心距离'].values.reshape(-1,1),center_dis_price_df['任务标价'])\n",
    "info"
   ]
  },
  {
   "cell_type": "markdown",
   "id": "d578ea1d",
   "metadata": {},
   "source": [
    "### 任务之间的影响：周围任务的多少"
   ]
  },
  {
   "cell_type": "code",
   "execution_count": null,
   "id": "eaf1d8e5",
   "metadata": {},
   "outputs": [],
   "source": [
    "import numpy as np\n",
    "task_num = len(df1)\n",
    "task_around_task_count = np.zeros(task_num)\n",
    "for i in range(task_num):\n",
    "    for j in range(task_num):\n",
    "        if i == j:\n",
    "            continue\n",
    "        if get_euclidean_dis(task_location_values[i,0],task_location_values[i,1],\n",
    "                             task_location_values[j,0],task_location_values[j,1],)<=2000:\n",
    "            task_around_task_count[i] += 1"
   ]
  },
  {
   "cell_type": "code",
   "execution_count": null,
   "id": "442c1670",
   "metadata": {},
   "outputs": [],
   "source": [
    "task_count_price_df = pd.DataFrame({'周围任务数':task_around_task_count,'任务标价':task_price_values})\n",
    "task_count_price_df['周围任务数所在范围'] = pd.cut(task_count_price_df['周围任务数'], [0,1,2,4,6,np.inf])\n",
    "print(task_count_price_df['周围任务数所在范围'].value_counts())\n",
    "task_count_price_df.groupby(task_count_price_df['周围任务数所在范围']).mean()['任务标价'].plot(\n",
    "    figsize=(12, 7),\n",
    "                                                             legend=False)\n",
    "plt.xlabel('附近任务数',fontsize=15)\n",
    "plt.ylabel('任务平均定价(元)',fontsize=15)\n",
    "plt.xticks(np.linspace(0,4,5),['(0,1]','(1,2]','(2,4]','(4,6]','(6,+oo)'])\n",
    "plt.tick_params(labelsize=13)"
   ]
  },
  {
   "cell_type": "code",
   "execution_count": null,
   "id": "9359a944",
   "metadata": {},
   "outputs": [],
   "source": [
    "import pandas as pd\n",
    "import matplotlib.pyplot as plt\n",
    "from scipy.stats import norm, boxcox_normmax\n",
    "from scipy.special import boxcox1p\n",
    "\n",
    "plt.rcParams['font.sans-serif'] = ['Microsoft YaHei']\n",
    "\n",
    "plt.figure(1)\n",
    "task_around_task_count_box = boxcox1p(task_around_task_count,boxcox_normmax(task_around_task_count+1))\n",
    "# task_around_task_count_max_sub = task_around_task_count.max() - task_around_task_count\n",
    "data_for_hist = task_around_task_count_box\n",
    "n, bins, patches = plt.hist(data_for_hist,bins=100,density=True)\n",
    "y = norm.pdf(bins, data_for_hist.mean(), data_for_hist.std())\n",
    "plt.twinx()\n",
    "plt.plot(bins, y, 'r--')"
   ]
  },
  {
   "cell_type": "code",
   "execution_count": null,
   "id": "bc5864e2",
   "metadata": {},
   "outputs": [],
   "source": [
    "from sklearn.feature_selection import f_regression\n",
    "from sklearn.feature_selection import mutual_info_regression as MIR\n",
    "info = MIR(task_count_price_df['周围任务数'].values.reshape(-1,1),center_dis_price_df['任务标价'])\n",
    "info"
   ]
  },
  {
   "cell_type": "markdown",
   "id": "c6dd94ca",
   "metadata": {},
   "source": [
    "### 会员对任务的影响"
   ]
  },
  {
   "cell_type": "markdown",
   "id": "855c2481",
   "metadata": {},
   "source": [
    "#### 会员完成能力"
   ]
  },
  {
   "cell_type": "code",
   "execution_count": null,
   "id": "85864d0a",
   "metadata": {},
   "outputs": [],
   "source": [
    "def entropy_weight(data):\n",
    "    # 假设data已经正向化过了\n",
    "    data = np.array(data)\n",
    "    # 归一化（可能已经归约过了）\n",
    "    data = (data - data.min(axis=0)) / (data.max(axis=0) - data.min(axis=0))\n",
    "    # 概率矩阵\n",
    "    p = data / data.sum(axis=0)\n",
    "    # 信息熵\n",
    "    E = - np.nansum(p * np.log(np.where(p==0,1,p)), axis=0) / np.log(len(data[0]))\n",
    "    # 熵权\n",
    "    return (1 - E) / (1 - E).sum()"
   ]
  },
  {
   "cell_type": "code",
   "execution_count": null,
   "id": "a2297fe9",
   "metadata": {},
   "outputs": [],
   "source": [
    "vip_lim_credit = np.hstack((vip_lim_values.reshape(-1,1),vip_credit_values.reshape(-1,1)))\n",
    "vip_cap_w = entropy_weight(vip_lim_credit)\n",
    "print(vip_cap_w)\n",
    "vip_lim_credit_con = (vip_lim_credit - vip_lim_credit.min(axis=0)) / (vip_lim_credit.max(axis=0) - vip_lim_credit.min(axis=0))\n",
    "vip_capbility = (vip_cap_w * vip_lim_credit_con).sum(axis=1)\n",
    "print(vip_lim_credit_con)\n",
    "print(vip_capbility)"
   ]
  },
  {
   "cell_type": "code",
   "execution_count": null,
   "id": "e161ecd6",
   "metadata": {},
   "outputs": [],
   "source": [
    "import numpy as np\n",
    "task_num = len(df1)\n",
    "vip_num = len(df2)\n",
    "task_around_vip_count = np.zeros(task_num)\n",
    "task_around_vip_capbility_sum = np.zeros(task_num)\n",
    "for i in range(task_num):\n",
    "    for j in range(vip_num):\n",
    "        if get_euclidean_dis(task_location_values[i,0],task_location_values[i,1],\n",
    "                             vip_location_values[j,0],vip_location_values[j,1]) <= 2000:\n",
    "            task_around_vip_count[i] += 1\n",
    "            task_around_vip_capbility_sum[i] += vip_capbility[i]\n",
    "task_around_vip_capbility_ave = task_around_vip_capbility_sum / np.where(task_around_vip_count==0,\n",
    "                                                              1,task_around_vip_count)"
   ]
  },
  {
   "cell_type": "code",
   "execution_count": null,
   "id": "1d90b08c",
   "metadata": {},
   "outputs": [],
   "source": [
    "pd.DataFrame(task_around_vip_capbility_ave).describe()"
   ]
  },
  {
   "cell_type": "code",
   "execution_count": null,
   "id": "9eed9f63",
   "metadata": {},
   "outputs": [],
   "source": [
    "vip_count_price_df = pd.DataFrame({'周围会员平均能力':task_around_vip_capbility_ave, '平均定价':task_price_values})\n",
    "vip_count_price_df['周围会员平均能力所在范围'] = pd.cut(vip_count_price_df['周围会员平均能力'], \n",
    "                                            [0,0.0055,0.01,0.015,0.025,0.055,0.7])\n",
    "print(vip_count_price_df['周围会员平均能力所在范围'].value_counts())\n",
    "vip_count_price_df.groupby(vip_count_price_df['周围会员平均能力所在范围']).mean()['平均定价'].plot(\n",
    "    figsize=(12, 8))\n",
    "plt.xlabel('任务附近会员的平均能力',fontsize=15)\n",
    "plt.ylabel('任务平均定价(元)',fontsize=15)\n",
    "plt.xticks(np.linspace(0,5,7),['(0,0.0055]','(0.0055,0.01]',\n",
    "                               '(0.01,0.015]','(0.015,0.025]','(0.025,0.055]',\n",
    "                               '(0.055,0.7]','(0.7,+oo)'])\n",
    "plt.tick_params(labelsize=13)"
   ]
  },
  {
   "cell_type": "code",
   "execution_count": null,
   "id": "29272311",
   "metadata": {},
   "outputs": [],
   "source": [
    "import pandas as pd\n",
    "import matplotlib.pyplot as plt\n",
    "from scipy.stats import norm\n",
    "\n",
    "plt.rcParams['font.sans-serif'] = ['Microsoft YaHei']\n",
    "\n",
    "plt.figure(1)\n",
    "task_around_vip_capbility_ave_box = boxcox1p(task_around_vip_capbility_ave,boxcox_normmax(task_around_vip_capbility_ave+1))\n",
    "n, bins, patches = plt.hist(task_around_vip_capbility_ave,bins=50,density=True)\n",
    "y = norm.pdf(bins, task_around_vip_capbility_ave.mean(), task_around_vip_capbility_ave.std())\n",
    "plt.twinx()\n",
    "plt.plot(bins, y, 'r--')"
   ]
  },
  {
   "cell_type": "code",
   "execution_count": null,
   "id": "6a1b4f5c",
   "metadata": {},
   "outputs": [],
   "source": [
    "from sklearn.feature_selection import f_regression\n",
    "from sklearn.feature_selection import mutual_info_regression as MIR\n",
    "info = MIR(task_around_vip_capbility_ave.reshape(-1,1),task_price_values)\n",
    "info"
   ]
  },
  {
   "cell_type": "markdown",
   "id": "e89d57ad",
   "metadata": {},
   "source": [
    "#### 周围会员的多少"
   ]
  },
  {
   "cell_type": "code",
   "execution_count": null,
   "id": "904a9e6c",
   "metadata": {},
   "outputs": [],
   "source": [
    "vip_count_price_df = pd.DataFrame({'周围会员数':task_around_vip_count, '平均定价':task_price_values})\n",
    "vip_count_price_df['周围会员数所在范围'] = pd.cut(vip_count_price_df['周围会员数'], [0,1,2,4,6,9,15,np.inf])\n",
    "print(vip_count_price_df['周围会员数所在范围'].value_counts())\n",
    "vip_count_price_df.groupby(vip_count_price_df['周围会员数所在范围']).mean()['平均定价'].plot(\n",
    "    figsize=(12, 8),)\n",
    "plt.xlabel('任务附近的会员人数',fontsize=15)\n",
    "plt.ylabel('任务平均定价(元)',fontsize=15)\n",
    "plt.xticks(np.linspace(0,6,7),['(0,1]','(1,2]','(2,4]','(4,6]','(6,9]','(9,15]','(15,+oo)'])\n",
    "plt.tick_params(labelsize=13)"
   ]
  },
  {
   "cell_type": "code",
   "execution_count": null,
   "id": "2b482394",
   "metadata": {},
   "outputs": [],
   "source": [
    "import pandas as pd\n",
    "import matplotlib.pyplot as plt\n",
    "from scipy.stats import norm\n",
    "\n",
    "plt.rcParams['font.sans-serif'] = ['Microsoft YaHei']\n",
    "\n",
    "plt.figure(1)\n",
    "max_box = boxcox_normmax(task_around_vip_count+1)\n",
    "task_around_vip_count_box = boxcox1p(task_around_vip_count,max_box)\n",
    "n, bins, patches = plt.hist(task_around_vip_count_box,bins=50,density=True)\n",
    "y = norm.pdf(bins, task_around_vip_count_box.mean(), task_around_vip_count_box.std())\n",
    "plt.twinx()\n",
    "plt.plot(bins, y, 'r--')"
   ]
  },
  {
   "cell_type": "code",
   "execution_count": null,
   "id": "822bcf1d",
   "metadata": {},
   "outputs": [],
   "source": [
    "from sklearn.feature_selection import mutual_info_regression as MIR\n",
    "info = MIR(task_around_vip_count.reshape(-1,1),task_price_values)\n",
    "info"
   ]
  },
  {
   "cell_type": "markdown",
   "id": "72233b60",
   "metadata": {},
   "source": [
    "### 各汇总影响/回归模型"
   ]
  },
  {
   "cell_type": "code",
   "execution_count": null,
   "id": "d5920c22",
   "metadata": {},
   "outputs": [],
   "source": [
    "from sklearn.linear_model import LinearRegression as LR\n",
    "from sklearn.preprocessing import StandardScaler\n",
    "from sklearn.metrics import r2_score\n",
    "import numpy as np\n",
    "task_pricefactor = np.array([task_dis_to_city_center,\n",
    "task_around_task_count,\n",
    "task_around_vip_count,\n",
    "task_around_vip_capbility_ave]).T\n",
    "scaler = StandardScaler()        \n",
    "task_pricefactor_std = scaler.fit_transform(task_pricefactor)\n",
    "reg = LR().fit(task_pricefactor_std, task_price_values)\n",
    "print(reg.coef_)\n",
    "print(reg.score(task_pricefactor_std, task_price_values))"
   ]
  },
  {
   "cell_type": "code",
   "execution_count": null,
   "id": "71d1d93a",
   "metadata": {},
   "outputs": [],
   "source": [
    "pd.DataFrame(reg.coef_)"
   ]
  },
  {
   "cell_type": "code",
   "execution_count": null,
   "id": "145bef6e",
   "metadata": {},
   "outputs": [],
   "source": [
    "from statsmodels.api import OLS, add_constant\n",
    "OLS(task_price_values, add_constant(task_pricefactor_std)).fit().summary()"
   ]
  },
  {
   "cell_type": "markdown",
   "id": "facff901",
   "metadata": {},
   "source": [
    "## 任务未完成原因"
   ]
  }
 ],
 "metadata": {
  "kernelspec": {
   "display_name": "Python 3 (ipykernel)",
   "language": "python",
   "name": "python3"
  },
  "language_info": {
   "codemirror_mode": {
    "name": "ipython",
    "version": 3
   },
   "file_extension": ".py",
   "mimetype": "text/x-python",
   "name": "python",
   "nbconvert_exporter": "python",
   "pygments_lexer": "ipython3",
   "version": "3.9.12"
  },
  "toc": {
   "base_numbering": 1,
   "nav_menu": {},
   "number_sections": true,
   "sideBar": true,
   "skip_h1_title": false,
   "title_cell": "Table of Contents",
   "title_sidebar": "Contents",
   "toc_cell": false,
   "toc_position": {},
   "toc_section_display": true,
   "toc_window_display": false
  }
 },
 "nbformat": 4,
 "nbformat_minor": 5
}