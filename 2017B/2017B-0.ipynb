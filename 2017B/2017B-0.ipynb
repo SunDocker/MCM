{
 "cells": [
  {
   "cell_type": "markdown",
   "id": "f1cc4285",
   "metadata": {
    "pycharm": {
     "name": "#%% md\n"
    }
   },
   "source": [
    "# 公共数据"
   ]
  },
  {
   "cell_type": "markdown",
   "id": "282f3598",
   "metadata": {
    "pycharm": {
     "name": "#%% md\n"
    }
   },
   "source": [
    "## 题目初始数据"
   ]
  },
  {
   "cell_type": "code",
   "execution_count": 3,
   "id": "82c689c2",
   "metadata": {
    "pycharm": {
     "name": "#%%\n"
    }
   },
   "outputs": [],
   "source": [
    "import pandas as pd"
   ]
  },
  {
   "cell_type": "code",
   "execution_count": 4,
   "id": "dc4af479",
   "metadata": {
    "pycharm": {
     "name": "#%%\n"
    }
   },
   "outputs": [],
   "source": [
    "df1 = pd.read_excel('dataset/附件一：已结束项目任务数据.xls')\n",
    "task_location_values = df1[['任务gps经度','任务gps 纬度']].values\n",
    "task_price_values = df1['任务标价'].values"
   ]
  },
  {
   "cell_type": "code",
   "execution_count": 5,
   "id": "6fe31a2f",
   "metadata": {
    "pycharm": {
     "name": "#%%\n"
    }
   },
   "outputs": [],
   "source": [
    "df2 = pd.read_excel('dataset/附件二：会员信息数据-分列.xlsx')\n",
    "vip_location_values = df2[['会员位置经度','会员位置纬度']].values\n",
    "vip_lim_values = df2['预订任务限额'].values\n",
    "vip_credit_values = df2['信誉值'].values"
   ]
  },
  {
   "cell_type": "code",
   "execution_count": 6,
   "id": "1aa2e68d",
   "metadata": {
    "pycharm": {
     "name": "#%%\n"
    }
   },
   "outputs": [],
   "source": [
    "import matplotlib.pyplot as plt\n",
    "plt.rcParams['font.sans-serif'] = ['SimHei']   #解决中文显示问题\n",
    "plt.rcParams['axes.unicode_minus'] = False    # 解决中文显示问题"
   ]
  },
  {
   "cell_type": "code",
   "execution_count": 7,
   "id": "ee4740db",
   "metadata": {
    "pycharm": {
     "name": "#%%\n"
    }
   },
   "outputs": [],
   "source": [
    "import numpy as np\n",
    "def get_euclidean_dis(x1, y1, x2, y2):\n",
    "    x_squ = (x1 - x2)**2\n",
    "    y_squ = (y1 - y2)**2\n",
    "    dis = np.sqrt(x_squ + y_squ) * 111 * 1000\n",
    "    return dis"
   ]
  },
  {
   "cell_type": "markdown",
   "id": "1d3bc1e1",
   "metadata": {
    "pycharm": {
     "name": "#%% md\n"
    }
   },
   "source": [
    "## 计算得到的数据"
   ]
  },
  {
   "cell_type": "markdown",
   "id": "2b2bf6da",
   "metadata": {
    "pycharm": {
     "name": "#%% md\n"
    }
   },
   "source": [
    "### 与城市中心的距离"
   ]
  },
  {
   "cell_type": "code",
   "execution_count": 6,
   "id": "ac5c3bf4",
   "metadata": {
    "pycharm": {
     "name": "#%%\n"
    }
   },
   "outputs": [
    {
     "data": {
      "text/html": [
       "<div>\n",
       "<style scoped>\n",
       "    .dataframe tbody tr th:only-of-type {\n",
       "        vertical-align: middle;\n",
       "    }\n",
       "\n",
       "    .dataframe tbody tr th {\n",
       "        vertical-align: top;\n",
       "    }\n",
       "\n",
       "    .dataframe thead th {\n",
       "        text-align: right;\n",
       "    }\n",
       "</style>\n",
       "<table border=\"1\" class=\"dataframe\">\n",
       "  <thead>\n",
       "    <tr style=\"text-align: right;\">\n",
       "      <th></th>\n",
       "      <th>0</th>\n",
       "    </tr>\n",
       "  </thead>\n",
       "  <tbody>\n",
       "    <tr>\n",
       "      <th>count</th>\n",
       "      <td>835.000000</td>\n",
       "    </tr>\n",
       "    <tr>\n",
       "      <th>mean</th>\n",
       "      <td>17783.392481</td>\n",
       "    </tr>\n",
       "    <tr>\n",
       "      <th>std</th>\n",
       "      <td>9654.577805</td>\n",
       "    </tr>\n",
       "    <tr>\n",
       "      <th>min</th>\n",
       "      <td>396.992079</td>\n",
       "    </tr>\n",
       "    <tr>\n",
       "      <th>25%</th>\n",
       "      <td>11623.089207</td>\n",
       "    </tr>\n",
       "    <tr>\n",
       "      <th>50%</th>\n",
       "      <td>16396.632905</td>\n",
       "    </tr>\n",
       "    <tr>\n",
       "      <th>75%</th>\n",
       "      <td>22787.597732</td>\n",
       "    </tr>\n",
       "    <tr>\n",
       "      <th>max</th>\n",
       "      <td>94366.816502</td>\n",
       "    </tr>\n",
       "  </tbody>\n",
       "</table>\n",
       "</div>"
      ],
      "text/plain": [
       "                  0\n",
       "count    835.000000\n",
       "mean   17783.392481\n",
       "std     9654.577805\n",
       "min      396.992079\n",
       "25%    11623.089207\n",
       "50%    16396.632905\n",
       "75%    22787.597732\n",
       "max    94366.816502"
      ]
     },
     "execution_count": 6,
     "metadata": {},
     "output_type": "execute_result"
    }
   ],
   "source": [
    "from sklearn.cluster import KMeans\n",
    "import numpy as np\n",
    "cluster = KMeans(n_clusters=4,random_state=0).fit(task_location_values)\n",
    "y_pred = cluster.labels_\n",
    "centroid = cluster.cluster_centers_\n",
    "task_dis_to_city_center = np.zeros(len(df1))\n",
    "for i in range(len(task_location_values)):\n",
    "    center_loc = centroid[y_pred[i]]\n",
    "    task_dis_to_city_center[i] = get_euclidean_dis(task_location_values[i,0],\n",
    "                                                   task_location_values[i,1],\n",
    "                                                   center_loc[0],\n",
    "                                                   center_loc[1])\n",
    "pd.DataFrame(task_dis_to_city_center).describe()"
   ]
  },
  {
   "cell_type": "markdown",
   "id": "1ca9b377",
   "metadata": {
    "pycharm": {
     "name": "#%% md\n"
    }
   },
   "source": [
    "### 附近任务数"
   ]
  },
  {
   "cell_type": "code",
   "execution_count": 7,
   "id": "56006e48",
   "metadata": {
    "pycharm": {
     "name": "#%%\n"
    }
   },
   "outputs": [],
   "source": [
    "import numpy as np\n",
    "task_num = len(df1)\n",
    "task_around_task_count = np.zeros(task_num)\n",
    "for i in range(task_num):\n",
    "    for j in range(task_num):\n",
    "        if i == j:\n",
    "            continue\n",
    "        if get_euclidean_dis(task_location_values[i,0],task_location_values[i,1],\n",
    "                             task_location_values[j,0],task_location_values[j,1],)<=2000:\n",
    "            task_around_task_count[i] += 1"
   ]
  },
  {
   "cell_type": "markdown",
   "id": "a3f45f81",
   "metadata": {
    "pycharm": {
     "name": "#%% md\n"
    }
   },
   "source": [
    "### 附近会员数及平均完成能力"
   ]
  },
  {
   "cell_type": "code",
   "execution_count": 11,
   "id": "98329153",
   "metadata": {
    "pycharm": {
     "name": "#%%\n"
    }
   },
   "outputs": [],
   "source": [
    "def entropy_weight(data):\n",
    "    # 假设data已经正向化过了\n",
    "    data = np.array(data)\n",
    "    # 归一化（可能已经归约过了）\n",
    "    data = (data - data.min(axis=0)) / (data.max(axis=0) - data.min(axis=0))\n",
    "    # 概率矩阵\n",
    "    p = data / data.sum(axis=0)\n",
    "    # 信息熵\n",
    "    E = - np.nansum(p * np.log(np.where(p==0,1,p)), axis=0) / np.log(len(data[0]))\n",
    "    # 熵权\n",
    "    return (1 - E) / (1 - E).sum()"
   ]
  },
  {
   "cell_type": "code",
   "execution_count": 12,
   "id": "5a9cbabc",
   "metadata": {
    "pycharm": {
     "name": "#%%\n"
    }
   },
   "outputs": [
    {
     "name": "stdout",
     "output_type": "stream",
     "text": [
      "[0.61346148 0.38653852]\n",
      "[[4.89177489e-01 1.00000000e+00]\n",
      " [7.01298701e-01 5.57764693e-01]\n",
      " [5.97402597e-01 4.11089860e-01]\n",
      " ...\n",
      " [0.00000000e+00 8.97093300e-08]\n",
      " [0.00000000e+00 5.14725664e-08]\n",
      " [0.00000000e+00 0.00000000e+00]]\n",
      "[6.86630069e-01 6.45817277e-01 5.25385547e-01 ... 3.46761120e-08\n",
      " 1.98961298e-08 0.00000000e+00]\n"
     ]
    }
   ],
   "source": [
    "vip_lim_credit = np.hstack((vip_lim_values.reshape(-1,1),vip_credit_values.reshape(-1,1)))\n",
    "vip_cap_w = entropy_weight(vip_lim_credit)\n",
    "print(vip_cap_w)\n",
    "vip_lim_credit_con = (vip_lim_credit - vip_lim_credit.min(axis=0)) / (vip_lim_credit.max(axis=0) - vip_lim_credit.min(axis=0))\n",
    "vip_capbility = (vip_cap_w * vip_lim_credit_con).sum(axis=1)\n",
    "print(vip_lim_credit_con)\n",
    "print(vip_capbility)"
   ]
  },
  {
   "cell_type": "code",
   "execution_count": 13,
   "id": "71fc5ed4",
   "metadata": {
    "pycharm": {
     "name": "#%%\n"
    }
   },
   "outputs": [],
   "source": [
    "import numpy as np\n",
    "task_num = len(df1)\n",
    "vip_num = len(df2)\n",
    "task_around_vip_count = np.zeros(task_num)\n",
    "task_around_vip_capbility_sum = np.zeros(task_num)\n",
    "for i in range(task_num):\n",
    "    for j in range(vip_num):\n",
    "        if get_euclidean_dis(task_location_values[i,0],task_location_values[i,1],\n",
    "                             vip_location_values[j,0],vip_location_values[j,1]) <= 2000:\n",
    "            task_around_vip_count[i] += 1\n",
    "            task_around_vip_capbility_sum[i] += vip_capbility[i]\n",
    "task_around_vip_capbility_ave = task_around_vip_capbility_sum / np.where(task_around_vip_count==0,\n",
    "                                                              1,task_around_vip_count)"
   ]
  }
 ],
 "metadata": {
  "kernelspec": {
   "display_name": "Python 3 (ipykernel)",
   "language": "python",
   "name": "python3"
  },
  "language_info": {
   "codemirror_mode": {
    "name": "ipython",
    "version": 3
   },
   "file_extension": ".py",
   "mimetype": "text/x-python",
   "name": "python",
   "nbconvert_exporter": "python",
   "pygments_lexer": "ipython3",
   "version": "3.9.12"
  },
  "toc": {
   "base_numbering": 1,
   "nav_menu": {},
   "number_sections": true,
   "sideBar": true,
   "skip_h1_title": false,
   "title_cell": "Table of Contents",
   "title_sidebar": "Contents",
   "toc_cell": false,
   "toc_position": {},
   "toc_section_display": true,
   "toc_window_display": false
  }
 },
 "nbformat": 4,
 "nbformat_minor": 5
}