{
 "cells": [
  {
   "cell_type": "code",
   "execution_count": 2,
   "metadata": {
    "collapsed": true
   },
   "outputs": [],
   "source": [
    "import pandas as pd"
   ]
  },
  {
   "cell_type": "code",
   "execution_count": 11,
   "outputs": [],
   "source": [
    "enterprise_info_with_credit_df = pd.read_excel('dataset/附件1：123家有信贷记录企业的相关数据.xlsx', sheet_name=0)\n",
    "in_invoice_with_credit_df = pd.read_excel('dataset/附件1：123家有信贷记录企业的相关数据.xlsx', sheet_name=1)\n",
    "out_invoice_with_credit_df = pd.read_excel('dataset/附件1：123家有信贷记录企业的相关数据.xlsx', sheet_name=2)"
   ],
   "metadata": {
    "collapsed": false,
    "pycharm": {
     "name": "#%%\n"
    }
   }
  },
  {
   "cell_type": "code",
   "execution_count": null,
   "outputs": [
    {
     "name": "stderr",
     "output_type": "stream",
     "text": [
      "Could not connect to 127.0.0.1: 11200\n",
      "Traceback (most recent call last):\n",
      "  File \"D:\\JetBrains\\PyCharm 2021.3.2\\plugins\\python\\helpers\\pydev\\_pydevd_bundle\\pydevd_comm.py\", line 458, in start_client\n",
      "    s.connect((host, port))\n",
      "ConnectionRefusedError: [WinError 10061] 由于目标计算机积极拒绝，无法连接。\n",
      "Traceback (most recent call last):\n",
      "  File \"D:\\JetBrains\\PyCharm 2021.3.2\\plugins\\python\\helpers-pro\\jupyter_debug\\pydev_jupyter_utils.py\", line 81, in attach_to_debugger\n",
      "    debugger.connect(pydev_localhost.get_localhost(), debugger_port)\n",
      "  File \"D:\\JetBrains\\PyCharm 2021.3.2\\plugins\\python\\helpers\\pydev\\pydevd.py\", line 655, in connect\n",
      "    s = start_client(host, port)\n",
      "  File \"D:\\JetBrains\\PyCharm 2021.3.2\\plugins\\python\\helpers\\pydev\\_pydevd_bundle\\pydevd_comm.py\", line 458, in start_client\n",
      "    s.connect((host, port))\n",
      "ConnectionRefusedError: [WinError 10061] 由于目标计算机积极拒绝，无法连接。\n",
      "Failed to connect to target debugger.\n"
     ]
    }
   ],
   "source": [
    "enterprise_info_without_credit_df = pd.read_excel('dataset/附件2：302家无信贷记录企业的相关数据.xlsx', sheet_name=0)\n",
    "out_invoice_without_credit_df = pd.read_excel('dataset/附件2：302家无信贷记录企业的相关数据.xlsx', sheet_name=1)\n",
    "in_invoice_without_credit_df = pd.read_excel('dataset/附件2：302家无信贷记录企业的相关数据.xlsx', sheet_name=2)"
   ],
   "metadata": {
    "collapsed": false,
    "pycharm": {
     "name": "#%%\n"
    }
   }
  },
  {
   "cell_type": "code",
   "execution_count": 8,
   "outputs": [],
   "source": [
    "bank_annual_interest_rate_and_client_wastage_rate_df = pd.read_excel('dataset/附件3：银行贷款年利率与客户流失率关系的统计数据 - 规范列名.xlsx')"
   ],
   "metadata": {
    "collapsed": false,
    "pycharm": {
     "name": "#%%\n"
    }
   }
  },
  {
   "cell_type": "code",
   "execution_count": 24,
   "outputs": [
    {
     "name": "stdout",
     "output_type": "stream",
     "text": [
      "<class 'pandas.core.frame.DataFrame'>\n",
      "RangeIndex: 123 entries, 0 to 122\n",
      "Data columns (total 4 columns):\n",
      " #   Column  Non-Null Count  Dtype \n",
      "---  ------  --------------  ----- \n",
      " 0   企业代号    123 non-null    object\n",
      " 1   企业名称    123 non-null    object\n",
      " 2   信誉评级    123 non-null    object\n",
      " 3   是否违约    123 non-null    object\n",
      "dtypes: object(4)\n",
      "memory usage: 4.0+ KB\n"
     ]
    },
    {
     "data": {
      "text/plain": "       企业代号         企业名称 信誉评级 是否违约\ncount   123          123  123  123\nunique  123           93    4    2\ntop      E1  ***建筑劳务有限公司    B    否\nfreq      1            7   38   96",
      "text/html": "<div>\n<style scoped>\n    .dataframe tbody tr th:only-of-type {\n        vertical-align: middle;\n    }\n\n    .dataframe tbody tr th {\n        vertical-align: top;\n    }\n\n    .dataframe thead th {\n        text-align: right;\n    }\n</style>\n<table border=\"1\" class=\"dataframe\">\n  <thead>\n    <tr style=\"text-align: right;\">\n      <th></th>\n      <th>企业代号</th>\n      <th>企业名称</th>\n      <th>信誉评级</th>\n      <th>是否违约</th>\n    </tr>\n  </thead>\n  <tbody>\n    <tr>\n      <th>count</th>\n      <td>123</td>\n      <td>123</td>\n      <td>123</td>\n      <td>123</td>\n    </tr>\n    <tr>\n      <th>unique</th>\n      <td>123</td>\n      <td>93</td>\n      <td>4</td>\n      <td>2</td>\n    </tr>\n    <tr>\n      <th>top</th>\n      <td>E1</td>\n      <td>***建筑劳务有限公司</td>\n      <td>B</td>\n      <td>否</td>\n    </tr>\n    <tr>\n      <th>freq</th>\n      <td>1</td>\n      <td>7</td>\n      <td>38</td>\n      <td>96</td>\n    </tr>\n  </tbody>\n</table>\n</div>"
     },
     "execution_count": 24,
     "metadata": {},
     "output_type": "execute_result"
    }
   ],
   "source": [
    "enterprise_info_with_credit_df.info()\n",
    "enterprise_info_with_credit_df.describe()"
   ],
   "metadata": {
    "collapsed": false,
    "pycharm": {
     "name": "#%%\n"
    }
   }
  },
  {
   "cell_type": "code",
   "execution_count": 25,
   "outputs": [
    {
     "name": "stdout",
     "output_type": "stream",
     "text": [
      "<class 'pandas.core.frame.DataFrame'>\n",
      "RangeIndex: 210947 entries, 0 to 210946\n",
      "Data columns (total 8 columns):\n",
      " #   Column  Non-Null Count   Dtype         \n",
      "---  ------  --------------   -----         \n",
      " 0   企业代号    210947 non-null  object        \n",
      " 1   发票号码    210947 non-null  int64         \n",
      " 2   开票日期    210947 non-null  datetime64[ns]\n",
      " 3   销方单位代号  210947 non-null  object        \n",
      " 4   金额      210947 non-null  float64       \n",
      " 5   税额      210947 non-null  float64       \n",
      " 6   价税合计    210947 non-null  float64       \n",
      " 7   发票状态    210947 non-null  object        \n",
      "dtypes: datetime64[ns](1), float64(3), int64(1), object(3)\n",
      "memory usage: 12.9+ MB\n"
     ]
    },
    {
     "data": {
      "text/plain": "               发票号码            金额            税额          价税合计\ncount  2.109470e+05  2.109470e+05  2.109470e+05  2.109470e+05\nmean   2.702761e+07  4.655349e+04  6.345313e+03  5.289880e+04\nstd    2.730446e+07  5.612044e+05  8.880450e+04  6.494968e+05\nmin    1.720000e+02 -9.823009e+06 -1.452991e+06 -1.110000e+07\n25%    5.077360e+06  2.051300e+02  1.379000e+01  2.240000e+02\n50%    1.660680e+07  4.867300e+02  4.256000e+01  5.200000e+02\n75%    4.311491e+07  8.640780e+03  2.912600e+02  9.480900e+03\nmax    9.999754e+07  9.999985e+06  1.699990e+06  1.169993e+07",
      "text/html": "<div>\n<style scoped>\n    .dataframe tbody tr th:only-of-type {\n        vertical-align: middle;\n    }\n\n    .dataframe tbody tr th {\n        vertical-align: top;\n    }\n\n    .dataframe thead th {\n        text-align: right;\n    }\n</style>\n<table border=\"1\" class=\"dataframe\">\n  <thead>\n    <tr style=\"text-align: right;\">\n      <th></th>\n      <th>发票号码</th>\n      <th>金额</th>\n      <th>税额</th>\n      <th>价税合计</th>\n    </tr>\n  </thead>\n  <tbody>\n    <tr>\n      <th>count</th>\n      <td>2.109470e+05</td>\n      <td>2.109470e+05</td>\n      <td>2.109470e+05</td>\n      <td>2.109470e+05</td>\n    </tr>\n    <tr>\n      <th>mean</th>\n      <td>2.702761e+07</td>\n      <td>4.655349e+04</td>\n      <td>6.345313e+03</td>\n      <td>5.289880e+04</td>\n    </tr>\n    <tr>\n      <th>std</th>\n      <td>2.730446e+07</td>\n      <td>5.612044e+05</td>\n      <td>8.880450e+04</td>\n      <td>6.494968e+05</td>\n    </tr>\n    <tr>\n      <th>min</th>\n      <td>1.720000e+02</td>\n      <td>-9.823009e+06</td>\n      <td>-1.452991e+06</td>\n      <td>-1.110000e+07</td>\n    </tr>\n    <tr>\n      <th>25%</th>\n      <td>5.077360e+06</td>\n      <td>2.051300e+02</td>\n      <td>1.379000e+01</td>\n      <td>2.240000e+02</td>\n    </tr>\n    <tr>\n      <th>50%</th>\n      <td>1.660680e+07</td>\n      <td>4.867300e+02</td>\n      <td>4.256000e+01</td>\n      <td>5.200000e+02</td>\n    </tr>\n    <tr>\n      <th>75%</th>\n      <td>4.311491e+07</td>\n      <td>8.640780e+03</td>\n      <td>2.912600e+02</td>\n      <td>9.480900e+03</td>\n    </tr>\n    <tr>\n      <th>max</th>\n      <td>9.999754e+07</td>\n      <td>9.999985e+06</td>\n      <td>1.699990e+06</td>\n      <td>1.169993e+07</td>\n    </tr>\n  </tbody>\n</table>\n</div>"
     },
     "execution_count": 25,
     "metadata": {},
     "output_type": "execute_result"
    }
   ],
   "source": [
    "in_invoice_with_credit_df.info()\n",
    "in_invoice_with_credit_df.describe()"
   ],
   "metadata": {
    "collapsed": false,
    "pycharm": {
     "name": "#%%\n"
    }
   }
  },
  {
   "cell_type": "code",
   "execution_count": 20,
   "outputs": [
    {
     "data": {
      "text/plain": "               发票号码            金额             税额          价税合计\ncount  1.624840e+05  1.624840e+05  162484.000000  1.624840e+05\nmean   9.392893e+06  8.687789e+04   11045.383030  9.792327e+04\nstd    1.075577e+07  2.099776e+05   31589.324542  2.401681e+05\nmin    1.376000e+03 -9.997715e+05 -169961.160000 -1.169733e+06\n25%    2.910115e+06  2.724215e+03     253.260000  3.018400e+03\n50%    6.007244e+06  1.752148e+04    1699.860000  1.979208e+04\n75%    1.195165e+07  9.213362e+04    8256.880000  1.000000e+05\nmax    9.828650e+07  3.978957e+06  636633.100000  4.615590e+06",
      "text/html": "<div>\n<style scoped>\n    .dataframe tbody tr th:only-of-type {\n        vertical-align: middle;\n    }\n\n    .dataframe tbody tr th {\n        vertical-align: top;\n    }\n\n    .dataframe thead th {\n        text-align: right;\n    }\n</style>\n<table border=\"1\" class=\"dataframe\">\n  <thead>\n    <tr style=\"text-align: right;\">\n      <th></th>\n      <th>发票号码</th>\n      <th>金额</th>\n      <th>税额</th>\n      <th>价税合计</th>\n    </tr>\n  </thead>\n  <tbody>\n    <tr>\n      <th>count</th>\n      <td>1.624840e+05</td>\n      <td>1.624840e+05</td>\n      <td>162484.000000</td>\n      <td>1.624840e+05</td>\n    </tr>\n    <tr>\n      <th>mean</th>\n      <td>9.392893e+06</td>\n      <td>8.687789e+04</td>\n      <td>11045.383030</td>\n      <td>9.792327e+04</td>\n    </tr>\n    <tr>\n      <th>std</th>\n      <td>1.075577e+07</td>\n      <td>2.099776e+05</td>\n      <td>31589.324542</td>\n      <td>2.401681e+05</td>\n    </tr>\n    <tr>\n      <th>min</th>\n      <td>1.376000e+03</td>\n      <td>-9.997715e+05</td>\n      <td>-169961.160000</td>\n      <td>-1.169733e+06</td>\n    </tr>\n    <tr>\n      <th>25%</th>\n      <td>2.910115e+06</td>\n      <td>2.724215e+03</td>\n      <td>253.260000</td>\n      <td>3.018400e+03</td>\n    </tr>\n    <tr>\n      <th>50%</th>\n      <td>6.007244e+06</td>\n      <td>1.752148e+04</td>\n      <td>1699.860000</td>\n      <td>1.979208e+04</td>\n    </tr>\n    <tr>\n      <th>75%</th>\n      <td>1.195165e+07</td>\n      <td>9.213362e+04</td>\n      <td>8256.880000</td>\n      <td>1.000000e+05</td>\n    </tr>\n    <tr>\n      <th>max</th>\n      <td>9.828650e+07</td>\n      <td>3.978957e+06</td>\n      <td>636633.100000</td>\n      <td>4.615590e+06</td>\n    </tr>\n  </tbody>\n</table>\n</div>"
     },
     "execution_count": 20,
     "metadata": {},
     "output_type": "execute_result"
    }
   ],
   "source": [
    "out_invoice_with_credit_df.describe()"
   ],
   "metadata": {
    "collapsed": false,
    "pycharm": {
     "name": "#%%\n"
    }
   }
  },
  {
   "cell_type": "code",
   "execution_count": 15,
   "outputs": [
    {
     "data": {
      "text/plain": "     贷款年利率  信誉评级A-客户流失率  信誉评级B-客户流失率  信誉评级C-客户流失率\n0   0.0400     0.000000     0.000000     0.000000\n1   0.0425     0.094574     0.066800     0.068725\n2   0.0465     0.135727     0.135052     0.122099\n3   0.0505     0.224603     0.206580     0.181252\n4   0.0545     0.302038     0.276812     0.263303\n5   0.0585     0.347316     0.302883     0.290189\n6   0.0625     0.413472     0.370216     0.349716\n7   0.0665     0.447891     0.406297     0.390772\n8   0.0705     0.497634     0.458295     0.457238\n9   0.0745     0.511097     0.508719     0.492660\n10  0.0785     0.573393     0.544409     0.513660\n11  0.0825     0.609492     0.548494     0.530249\n12  0.0865     0.652945     0.588766     0.587762\n13  0.0905     0.667542     0.625765     0.590097\n14  0.0945     0.694780     0.635605     0.642994\n15  0.0985     0.708302     0.673527     0.658839\n16  0.1025     0.731275     0.696925     0.696871\n17  0.1065     0.775091     0.705316     0.719104\n18  0.1105     0.798227     0.742936     0.711101\n19  0.1145     0.790527     0.776401     0.750628\n20  0.1185     0.815197     0.762023     0.776816\n21  0.1225     0.814421     0.791504     0.784481\n22  0.1265     0.854811     0.814999     0.795566\n23  0.1305     0.870317     0.822298     0.820051\n24  0.1345     0.871428     0.835302     0.832288\n25  0.1385     0.885926     0.845748     0.844090\n26  0.1425     0.874435     0.842071     0.836974\n27  0.1465     0.902726     0.868160     0.872559\n28  0.1500     0.922061     0.885865     0.895165",
      "text/html": "<div>\n<style scoped>\n    .dataframe tbody tr th:only-of-type {\n        vertical-align: middle;\n    }\n\n    .dataframe tbody tr th {\n        vertical-align: top;\n    }\n\n    .dataframe thead th {\n        text-align: right;\n    }\n</style>\n<table border=\"1\" class=\"dataframe\">\n  <thead>\n    <tr style=\"text-align: right;\">\n      <th></th>\n      <th>贷款年利率</th>\n      <th>信誉评级A-客户流失率</th>\n      <th>信誉评级B-客户流失率</th>\n      <th>信誉评级C-客户流失率</th>\n    </tr>\n  </thead>\n  <tbody>\n    <tr>\n      <th>0</th>\n      <td>0.0400</td>\n      <td>0.000000</td>\n      <td>0.000000</td>\n      <td>0.000000</td>\n    </tr>\n    <tr>\n      <th>1</th>\n      <td>0.0425</td>\n      <td>0.094574</td>\n      <td>0.066800</td>\n      <td>0.068725</td>\n    </tr>\n    <tr>\n      <th>2</th>\n      <td>0.0465</td>\n      <td>0.135727</td>\n      <td>0.135052</td>\n      <td>0.122099</td>\n    </tr>\n    <tr>\n      <th>3</th>\n      <td>0.0505</td>\n      <td>0.224603</td>\n      <td>0.206580</td>\n      <td>0.181252</td>\n    </tr>\n    <tr>\n      <th>4</th>\n      <td>0.0545</td>\n      <td>0.302038</td>\n      <td>0.276812</td>\n      <td>0.263303</td>\n    </tr>\n    <tr>\n      <th>5</th>\n      <td>0.0585</td>\n      <td>0.347316</td>\n      <td>0.302883</td>\n      <td>0.290189</td>\n    </tr>\n    <tr>\n      <th>6</th>\n      <td>0.0625</td>\n      <td>0.413472</td>\n      <td>0.370216</td>\n      <td>0.349716</td>\n    </tr>\n    <tr>\n      <th>7</th>\n      <td>0.0665</td>\n      <td>0.447891</td>\n      <td>0.406297</td>\n      <td>0.390772</td>\n    </tr>\n    <tr>\n      <th>8</th>\n      <td>0.0705</td>\n      <td>0.497634</td>\n      <td>0.458295</td>\n      <td>0.457238</td>\n    </tr>\n    <tr>\n      <th>9</th>\n      <td>0.0745</td>\n      <td>0.511097</td>\n      <td>0.508719</td>\n      <td>0.492660</td>\n    </tr>\n    <tr>\n      <th>10</th>\n      <td>0.0785</td>\n      <td>0.573393</td>\n      <td>0.544409</td>\n      <td>0.513660</td>\n    </tr>\n    <tr>\n      <th>11</th>\n      <td>0.0825</td>\n      <td>0.609492</td>\n      <td>0.548494</td>\n      <td>0.530249</td>\n    </tr>\n    <tr>\n      <th>12</th>\n      <td>0.0865</td>\n      <td>0.652945</td>\n      <td>0.588766</td>\n      <td>0.587762</td>\n    </tr>\n    <tr>\n      <th>13</th>\n      <td>0.0905</td>\n      <td>0.667542</td>\n      <td>0.625765</td>\n      <td>0.590097</td>\n    </tr>\n    <tr>\n      <th>14</th>\n      <td>0.0945</td>\n      <td>0.694780</td>\n      <td>0.635605</td>\n      <td>0.642994</td>\n    </tr>\n    <tr>\n      <th>15</th>\n      <td>0.0985</td>\n      <td>0.708302</td>\n      <td>0.673527</td>\n      <td>0.658839</td>\n    </tr>\n    <tr>\n      <th>16</th>\n      <td>0.1025</td>\n      <td>0.731275</td>\n      <td>0.696925</td>\n      <td>0.696871</td>\n    </tr>\n    <tr>\n      <th>17</th>\n      <td>0.1065</td>\n      <td>0.775091</td>\n      <td>0.705316</td>\n      <td>0.719104</td>\n    </tr>\n    <tr>\n      <th>18</th>\n      <td>0.1105</td>\n      <td>0.798227</td>\n      <td>0.742936</td>\n      <td>0.711101</td>\n    </tr>\n    <tr>\n      <th>19</th>\n      <td>0.1145</td>\n      <td>0.790527</td>\n      <td>0.776401</td>\n      <td>0.750628</td>\n    </tr>\n    <tr>\n      <th>20</th>\n      <td>0.1185</td>\n      <td>0.815197</td>\n      <td>0.762023</td>\n      <td>0.776816</td>\n    </tr>\n    <tr>\n      <th>21</th>\n      <td>0.1225</td>\n      <td>0.814421</td>\n      <td>0.791504</td>\n      <td>0.784481</td>\n    </tr>\n    <tr>\n      <th>22</th>\n      <td>0.1265</td>\n      <td>0.854811</td>\n      <td>0.814999</td>\n      <td>0.795566</td>\n    </tr>\n    <tr>\n      <th>23</th>\n      <td>0.1305</td>\n      <td>0.870317</td>\n      <td>0.822298</td>\n      <td>0.820051</td>\n    </tr>\n    <tr>\n      <th>24</th>\n      <td>0.1345</td>\n      <td>0.871428</td>\n      <td>0.835302</td>\n      <td>0.832288</td>\n    </tr>\n    <tr>\n      <th>25</th>\n      <td>0.1385</td>\n      <td>0.885926</td>\n      <td>0.845748</td>\n      <td>0.844090</td>\n    </tr>\n    <tr>\n      <th>26</th>\n      <td>0.1425</td>\n      <td>0.874435</td>\n      <td>0.842071</td>\n      <td>0.836974</td>\n    </tr>\n    <tr>\n      <th>27</th>\n      <td>0.1465</td>\n      <td>0.902726</td>\n      <td>0.868160</td>\n      <td>0.872559</td>\n    </tr>\n    <tr>\n      <th>28</th>\n      <td>0.1500</td>\n      <td>0.922061</td>\n      <td>0.885865</td>\n      <td>0.895165</td>\n    </tr>\n  </tbody>\n</table>\n</div>"
     },
     "execution_count": 15,
     "metadata": {},
     "output_type": "execute_result"
    }
   ],
   "source": [
    "bank_annual_interest_rate_and_client_wastage_rate_df"
   ],
   "metadata": {
    "collapsed": false,
    "pycharm": {
     "name": "#%%\n"
    }
   }
  }
 ],
 "metadata": {
  "kernelspec": {
   "display_name": "Python 3",
   "language": "python",
   "name": "python3"
  },
  "language_info": {
   "codemirror_mode": {
    "name": "ipython",
    "version": 2
   },
   "file_extension": ".py",
   "mimetype": "text/x-python",
   "name": "python",
   "nbconvert_exporter": "python",
   "pygments_lexer": "ipython2",
   "version": "2.7.6"
  }
 },
 "nbformat": 4,
 "nbformat_minor": 0
}